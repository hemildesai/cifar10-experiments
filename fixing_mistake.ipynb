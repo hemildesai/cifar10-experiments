{
 "cells": [
  {
   "cell_type": "code",
   "execution_count": 2,
   "metadata": {},
   "outputs": [],
   "source": [
    "%load_ext autoreload\n",
    "%autoreload 2\n",
    "%matplotlib inline"
   ]
  },
  {
   "cell_type": "code",
   "execution_count": 2,
   "metadata": {},
   "outputs": [
    {
     "name": "stdout",
     "output_type": "stream",
     "text": [
      "Requirement already satisfied: tqdm in /usr/local/lib/python3.6/dist-packages (4.47.0)\n",
      "Requirement already up-to-date: torch in /usr/local/lib/python3.6/dist-packages (1.6.0)\n",
      "Requirement already satisfied, skipping upgrade: future in /usr/local/lib/python3.6/dist-packages (from torch) (0.17.1)\n",
      "Requirement already satisfied, skipping upgrade: numpy in /usr/local/lib/python3.6/dist-packages (from torch) (1.17.0)\n",
      "Requirement already satisfied: numpy in /usr/local/lib/python3.6/dist-packages (1.17.0)\n",
      "Requirement already satisfied: matplotlib in /usr/local/lib/python3.6/dist-packages (3.1.1)\n",
      "Requirement already satisfied: python-dateutil>=2.1 in /usr/local/lib/python3.6/dist-packages (from matplotlib) (2.8.0)\n",
      "Requirement already satisfied: cycler>=0.10 in /usr/local/lib/python3.6/dist-packages (from matplotlib) (0.10.0)\n",
      "Requirement already satisfied: pyparsing!=2.0.4,!=2.1.2,!=2.1.6,>=2.0.1 in /usr/local/lib/python3.6/dist-packages (from matplotlib) (2.4.2)\n",
      "Requirement already satisfied: kiwisolver>=1.0.1 in /usr/local/lib/python3.6/dist-packages (from matplotlib) (1.1.0)\n",
      "Requirement already satisfied: numpy>=1.11 in /usr/local/lib/python3.6/dist-packages (from matplotlib) (1.17.0)\n",
      "Requirement already satisfied: six>=1.5 in /usr/local/lib/python3.6/dist-packages (from python-dateutil>=2.1->matplotlib) (1.12.0)\n",
      "Requirement already satisfied: setuptools in /usr/local/lib/python3.6/dist-packages (from kiwisolver>=1.0.1->matplotlib) (41.0.1)\n"
     ]
    },
    {
     "name": "stderr",
     "output_type": "stream",
     "text": [
      "WARNING: You are using pip version 19.2.1, however version 20.2.2 is available.\n",
      "You should consider upgrading via the 'pip install --upgrade pip' command.\n",
      "WARNING: You are using pip version 19.2.1, however version 20.2.2 is available.\n",
      "You should consider upgrading via the 'pip install --upgrade pip' command.\n",
      "WARNING: You are using pip version 19.2.1, however version 20.2.2 is available.\n",
      "You should consider upgrading via the 'pip install --upgrade pip' command.\n",
      "WARNING: You are using pip version 19.2.1, however version 20.2.2 is available.\n",
      "You should consider upgrading via the 'pip install --upgrade pip' command.\n"
     ]
    }
   ],
   "source": [
    "%%bash\n",
    "pip install tqdm\n",
    "pip install --upgrade torch\n",
    "pip install numpy\n",
    "pip install matplotlib"
   ]
  },
  {
   "cell_type": "code",
   "execution_count": 9,
   "metadata": {},
   "outputs": [],
   "source": [
    "import os\n",
    "\n",
    "import torch\n",
    "import torchvision\n",
    "\n",
    "from data_utils import cifar10, cifar10_classes, matplotlib_imshow, plot_history\n",
    "from train_utils import train, evaluate, device\n",
    "from models.mlp import MLP"
   ]
  },
  {
   "cell_type": "code",
   "execution_count": 4,
   "metadata": {},
   "outputs": [
    {
     "name": "stdout",
     "output_type": "stream",
     "text": [
      "Files already downloaded and verified\n",
      "Files already downloaded and verified\n"
     ]
    }
   ],
   "source": [
    "HPS = dict(\n",
    "    batch_size=128,\n",
    "    epochs=50,\n",
    ")\n",
    "\n",
    "model_dir = './models/cifar10_custom_resnet'\n",
    "\n",
    "train_ds, test_ds = cifar10(batch_size=HPS['batch_size'])"
   ]
  },
  {
   "cell_type": "code",
   "execution_count": 5,
   "metadata": {},
   "outputs": [],
   "source": [
    "# https://github.com/pytorch/vision/blob/master/torchvision/models/resnet.py\n",
    "import torch\n",
    "import torch.nn as nn\n",
    "from torchvision.models.utils import load_state_dict_from_url\n",
    "\n",
    "\n",
    "model_urls = {\n",
    "    'resnet18': 'https://download.pytorch.org/models/resnet18-5c106cde.pth',\n",
    "    'resnet34': 'https://download.pytorch.org/models/resnet34-333f7ec4.pth',\n",
    "    'resnet50': 'https://download.pytorch.org/models/resnet50-19c8e357.pth',\n",
    "    'resnet101': 'https://download.pytorch.org/models/resnet101-5d3b4d8f.pth',\n",
    "    'resnet152': 'https://download.pytorch.org/models/resnet152-b121ed2d.pth',\n",
    "    'resnext50_32x4d': 'https://download.pytorch.org/models/resnext50_32x4d-7cdf4587.pth',\n",
    "    'resnext101_32x8d': 'https://download.pytorch.org/models/resnext101_32x8d-8ba56ff5.pth',\n",
    "    'wide_resnet50_2': 'https://download.pytorch.org/models/wide_resnet50_2-95faca4d.pth',\n",
    "    'wide_resnet101_2': 'https://download.pytorch.org/models/wide_resnet101_2-32ee1156.pth',\n",
    "}\n",
    "\n",
    "\n",
    "def conv3x3(in_planes, out_planes, stride=1, groups=1, dilation=1):\n",
    "    \"\"\"3x3 convolution with padding\"\"\"\n",
    "    return nn.Conv2d(in_planes, out_planes, kernel_size=3, stride=stride,\n",
    "                     padding=dilation, groups=groups, bias=False, dilation=dilation)\n",
    "\n",
    "\n",
    "def conv1x1(in_planes, out_planes, stride=1):\n",
    "    \"\"\"1x1 convolution\"\"\"\n",
    "    return nn.Conv2d(in_planes, out_planes, kernel_size=1, stride=stride, bias=False)\n",
    "\n",
    "\n",
    "class BasicBlock(nn.Module):\n",
    "    expansion = 1\n",
    "\n",
    "    def __init__(self, inplanes, planes, stride=1, downsample=None, groups=1,\n",
    "                 base_width=64, dilation=1, norm_layer=None):\n",
    "        super(BasicBlock, self).__init__()\n",
    "        if norm_layer is None:\n",
    "            norm_layer = nn.BatchNorm2d\n",
    "        if groups != 1 or base_width != 64:\n",
    "            raise ValueError('BasicBlock only supports groups=1 and base_width=64')\n",
    "        if dilation > 1:\n",
    "            raise NotImplementedError(\"Dilation > 1 not supported in BasicBlock\")\n",
    "        # Both self.conv1 and self.downsample layers downsample the input when stride != 1\n",
    "        self.conv1 = conv3x3(inplanes, planes, stride)\n",
    "        self.bn1 = norm_layer(planes)\n",
    "        self.relu = nn.ReLU(inplace=True)\n",
    "        self.conv2 = conv3x3(planes, planes)\n",
    "        self.bn2 = norm_layer(planes)\n",
    "        self.downsample = downsample\n",
    "        self.stride = stride\n",
    "\n",
    "    def forward(self, x):\n",
    "        identity = x\n",
    "\n",
    "        out = self.conv1(x)\n",
    "        out = self.bn1(out)\n",
    "        out = self.relu(out)\n",
    "\n",
    "        out = self.conv2(out)\n",
    "        out = self.bn2(out)\n",
    "\n",
    "        if self.downsample is not None:\n",
    "            identity = self.downsample(x)\n",
    "\n",
    "        out += identity\n",
    "        out = self.relu(out)\n",
    "\n",
    "        return out\n",
    "\n",
    "\n",
    "class Bottleneck(nn.Module):\n",
    "    # Bottleneck in torchvision places the stride for downsampling at 3x3 convolution(self.conv2)\n",
    "    # while original implementation places the stride at the first 1x1 convolution(self.conv1)\n",
    "    # according to \"Deep residual learning for image recognition\"https://arxiv.org/abs/1512.03385.\n",
    "    # This variant is also known as ResNet V1.5 and improves accuracy according to\n",
    "    # https://ngc.nvidia.com/catalog/model-scripts/nvidia:resnet_50_v1_5_for_pytorch.\n",
    "\n",
    "    expansion = 4\n",
    "\n",
    "    def __init__(self, inplanes, planes, stride=1, downsample=None, groups=1,\n",
    "                 base_width=64, dilation=1, norm_layer=None):\n",
    "        super(Bottleneck, self).__init__()\n",
    "        if norm_layer is None:\n",
    "            norm_layer = nn.BatchNorm2d\n",
    "        width = int(planes * (base_width / 64.)) * groups\n",
    "        # Both self.conv2 and self.downsample layers downsample the input when stride != 1\n",
    "        self.conv1 = conv1x1(inplanes, width)\n",
    "        self.bn1 = norm_layer(width)\n",
    "        self.conv2 = conv3x3(width, width, stride, groups, dilation)\n",
    "        self.bn2 = norm_layer(width)\n",
    "        self.conv3 = conv1x1(width, planes * self.expansion)\n",
    "        self.bn3 = norm_layer(planes * self.expansion)\n",
    "        self.relu = nn.ReLU(inplace=True)\n",
    "        self.downsample = downsample\n",
    "        self.stride = stride\n",
    "\n",
    "    def forward(self, x):\n",
    "        identity = x\n",
    "\n",
    "        out = self.conv1(x)\n",
    "        out = self.bn1(out)\n",
    "        out = self.relu(out)\n",
    "\n",
    "        out = self.conv2(out)\n",
    "        out = self.bn2(out)\n",
    "        out = self.relu(out)\n",
    "\n",
    "        out = self.conv3(out)\n",
    "        out = self.bn3(out)\n",
    "\n",
    "        if self.downsample is not None:\n",
    "            identity = self.downsample(x)\n",
    "\n",
    "        out += identity\n",
    "        out = self.relu(out)\n",
    "\n",
    "        return out\n",
    "\n",
    "\n",
    "class ResNet(nn.Module):\n",
    "\n",
    "    def __init__(self, block, layers, num_classes=1000, zero_init_residual=False,\n",
    "                 groups=1, width_per_group=64, replace_stride_with_dilation=None,\n",
    "                 norm_layer=None):\n",
    "        super(ResNet, self).__init__()\n",
    "        if norm_layer is None:\n",
    "            norm_layer = nn.BatchNorm2d\n",
    "        self._norm_layer = norm_layer\n",
    "\n",
    "        self.inplanes = 64\n",
    "        self.dilation = 1\n",
    "        if replace_stride_with_dilation is None:\n",
    "            # each element in the tuple indicates if we should replace\n",
    "            # the 2x2 stride with a dilated convolution instead\n",
    "            replace_stride_with_dilation = [False, False, False]\n",
    "        if len(replace_stride_with_dilation) != 3:\n",
    "            raise ValueError(\"replace_stride_with_dilation should be None \"\n",
    "                             \"or a 3-element tuple, got {}\".format(replace_stride_with_dilation))\n",
    "        self.groups = groups\n",
    "        self.base_width = width_per_group\n",
    "        self.conv1 = nn.Conv2d(3, self.inplanes, kernel_size=3, stride=1, padding=1,\n",
    "                               bias=False)\n",
    "        self.bn1 = norm_layer(self.inplanes)\n",
    "        self.relu = nn.ReLU(inplace=True)\n",
    "#         self.maxpool = nn.MaxPool2d(kernel_size=3, stride=2, padding=1)\n",
    "        self.layer1 = self._make_layer(block, 64, layers[0])\n",
    "        self.layer2 = self._make_layer(block, 128, layers[1], stride=2,\n",
    "                                       dilate=replace_stride_with_dilation[0])\n",
    "        self.layer3 = self._make_layer(block, 256, layers[2], stride=2,\n",
    "                                       dilate=replace_stride_with_dilation[1])\n",
    "        self.layer4 = self._make_layer(block, 512, layers[3], stride=2,\n",
    "                                       dilate=replace_stride_with_dilation[2])\n",
    "        self.avgpool = nn.AdaptiveAvgPool2d((1, 1))\n",
    "        self.fc = nn.Linear(512 * block.expansion, num_classes)\n",
    "\n",
    "        for m in self.modules():\n",
    "            if isinstance(m, nn.Conv2d):\n",
    "                nn.init.kaiming_normal_(m.weight, mode='fan_out', nonlinearity='relu')\n",
    "            elif isinstance(m, (nn.BatchNorm2d, nn.GroupNorm)):\n",
    "                nn.init.constant_(m.weight, 1)\n",
    "                nn.init.constant_(m.bias, 0)\n",
    "\n",
    "        # Zero-initialize the last BN in each residual branch,\n",
    "        # so that the residual branch starts with zeros, and each residual block behaves like an identity.\n",
    "        # This improves the model by 0.2~0.3% according to https://arxiv.org/abs/1706.02677\n",
    "        if zero_init_residual:\n",
    "            for m in self.modules():\n",
    "                if isinstance(m, Bottleneck):\n",
    "                    nn.init.constant_(m.bn3.weight, 0)\n",
    "                elif isinstance(m, BasicBlock):\n",
    "                    nn.init.constant_(m.bn2.weight, 0)\n",
    "\n",
    "    def _make_layer(self, block, planes, blocks, stride=1, dilate=False):\n",
    "        norm_layer = self._norm_layer\n",
    "        downsample = None\n",
    "        previous_dilation = self.dilation\n",
    "        if dilate:\n",
    "            self.dilation *= stride\n",
    "            stride = 1\n",
    "        if stride != 1 or self.inplanes != planes * block.expansion:\n",
    "            downsample = nn.Sequential(\n",
    "                conv1x1(self.inplanes, planes * block.expansion, stride),\n",
    "                norm_layer(planes * block.expansion),\n",
    "            )\n",
    "\n",
    "        layers = []\n",
    "        layers.append(block(self.inplanes, planes, stride, downsample, self.groups,\n",
    "                            self.base_width, previous_dilation, norm_layer))\n",
    "        self.inplanes = planes * block.expansion\n",
    "        for _ in range(1, blocks):\n",
    "            layers.append(block(self.inplanes, planes, groups=self.groups,\n",
    "                                base_width=self.base_width, dilation=self.dilation,\n",
    "                                norm_layer=norm_layer))\n",
    "\n",
    "        return nn.Sequential(*layers)\n",
    "\n",
    "    def _forward_impl(self, x):\n",
    "        # See note [TorchScript super()]\n",
    "        x = self.conv1(x)\n",
    "        x = self.bn1(x)\n",
    "        x = self.relu(x)\n",
    "#         x = self.maxpool(x)\n",
    "\n",
    "        x = self.layer1(x)\n",
    "        x = self.layer2(x)\n",
    "        x = self.layer3(x)\n",
    "        x = self.layer4(x)\n",
    "\n",
    "        x = self.avgpool(x)\n",
    "        x = torch.flatten(x, 1)\n",
    "        x = self.fc(x)\n",
    "\n",
    "        return x\n",
    "\n",
    "    def forward(self, x):\n",
    "        return self._forward_impl(x)\n",
    "\n",
    "\n",
    "def _resnet(arch, block, layers, pretrained, progress, **kwargs):\n",
    "    model = ResNet(block, layers, **kwargs)\n",
    "    if pretrained:\n",
    "        state_dict = load_state_dict_from_url(model_urls[arch],\n",
    "                                              progress=progress)\n",
    "        model.load_state_dict(state_dict)\n",
    "    return model\n",
    "\n",
    "# Custom added\n",
    "def resnet9(pretrained=False, progress=True, **kwargs):\n",
    "    r\"\"\"ResNet-18 model from\n",
    "    `\"Deep Residual Learning for Image Recognition\" <https://arxiv.org/pdf/1512.03385.pdf>`_\n",
    "    Args:\n",
    "        pretrained (bool): If True, returns a model pre-trained on ImageNet\n",
    "        progress (bool): If True, displays a progress bar of the download to stderr\n",
    "    \"\"\"\n",
    "    return _resnet('resnet9', BasicBlock, [1, 1, 1, 1], pretrained, progress,\n",
    "                   **kwargs)\n",
    "\n",
    "def resnet18(pretrained=False, progress=True, **kwargs):\n",
    "    r\"\"\"ResNet-18 model from\n",
    "    `\"Deep Residual Learning for Image Recognition\" <https://arxiv.org/pdf/1512.03385.pdf>`_\n",
    "    Args:\n",
    "        pretrained (bool): If True, returns a model pre-trained on ImageNet\n",
    "        progress (bool): If True, displays a progress bar of the download to stderr\n",
    "    \"\"\"\n",
    "    return _resnet('resnet18', BasicBlock, [2, 2, 2, 2], pretrained, progress,\n",
    "                   **kwargs)\n",
    "\n",
    "\n",
    "def resnet34(pretrained=False, progress=True, **kwargs):\n",
    "    r\"\"\"ResNet-34 model from\n",
    "    `\"Deep Residual Learning for Image Recognition\" <https://arxiv.org/pdf/1512.03385.pdf>`_\n",
    "    Args:\n",
    "        pretrained (bool): If True, returns a model pre-trained on ImageNet\n",
    "        progress (bool): If True, displays a progress bar of the download to stderr\n",
    "    \"\"\"\n",
    "    return _resnet('resnet34', BasicBlock, [3, 4, 6, 3], pretrained, progress,\n",
    "                   **kwargs)\n",
    "\n",
    "\n",
    "def resnet50(pretrained=False, progress=True, **kwargs):\n",
    "    r\"\"\"ResNet-50 model from\n",
    "    `\"Deep Residual Learning for Image Recognition\" <https://arxiv.org/pdf/1512.03385.pdf>`_\n",
    "    Args:\n",
    "        pretrained (bool): If True, returns a model pre-trained on ImageNet\n",
    "        progress (bool): If True, displays a progress bar of the download to stderr\n",
    "    \"\"\"\n",
    "    return _resnet('resnet50', Bottleneck, [3, 4, 6, 3], pretrained, progress,\n",
    "                   **kwargs)\n",
    "\n",
    "\n",
    "def resnet101(pretrained=False, progress=True, **kwargs):\n",
    "    r\"\"\"ResNet-101 model from\n",
    "    `\"Deep Residual Learning for Image Recognition\" <https://arxiv.org/pdf/1512.03385.pdf>`_\n",
    "    Args:\n",
    "        pretrained (bool): If True, returns a model pre-trained on ImageNet\n",
    "        progress (bool): If True, displays a progress bar of the download to stderr\n",
    "    \"\"\"\n",
    "    return _resnet('resnet101', Bottleneck, [3, 4, 23, 3], pretrained, progress,\n",
    "                   **kwargs)\n",
    "\n",
    "\n",
    "def resnet152(pretrained=False, progress=True, **kwargs):\n",
    "    r\"\"\"ResNet-152 model from\n",
    "    `\"Deep Residual Learning for Image Recognition\" <https://arxiv.org/pdf/1512.03385.pdf>`_\n",
    "    Args:\n",
    "        pretrained (bool): If True, returns a model pre-trained on ImageNet\n",
    "        progress (bool): If True, displays a progress bar of the download to stderr\n",
    "    \"\"\"\n",
    "    return _resnet('resnet152', Bottleneck, [3, 8, 36, 3], pretrained, progress,\n",
    "                   **kwargs)\n",
    "\n",
    "\n",
    "def resnext50_32x4d(pretrained=False, progress=True, **kwargs):\n",
    "    r\"\"\"ResNeXt-50 32x4d model from\n",
    "    `\"Aggregated Residual Transformation for Deep Neural Networks\" <https://arxiv.org/pdf/1611.05431.pdf>`_\n",
    "    Args:\n",
    "        pretrained (bool): If True, returns a model pre-trained on ImageNet\n",
    "        progress (bool): If True, displays a progress bar of the download to stderr\n",
    "    \"\"\"\n",
    "    kwargs['groups'] = 32\n",
    "    kwargs['width_per_group'] = 4\n",
    "    return _resnet('resnext50_32x4d', Bottleneck, [3, 4, 6, 3],\n",
    "                   pretrained, progress, **kwargs)\n",
    "\n",
    "\n",
    "def resnext101_32x8d(pretrained=False, progress=True, **kwargs):\n",
    "    r\"\"\"ResNeXt-101 32x8d model from\n",
    "    `\"Aggregated Residual Transformation for Deep Neural Networks\" <https://arxiv.org/pdf/1611.05431.pdf>`_\n",
    "    Args:\n",
    "        pretrained (bool): If True, returns a model pre-trained on ImageNet\n",
    "        progress (bool): If True, displays a progress bar of the download to stderr\n",
    "    \"\"\"\n",
    "    kwargs['groups'] = 32\n",
    "    kwargs['width_per_group'] = 8\n",
    "    return _resnet('resnext101_32x8d', Bottleneck, [3, 4, 23, 3],\n",
    "                   pretrained, progress, **kwargs)\n",
    "\n",
    "\n",
    "def wide_resnet50_2(pretrained=False, progress=True, **kwargs):\n",
    "    r\"\"\"Wide ResNet-50-2 model from\n",
    "    `\"Wide Residual Networks\" <https://arxiv.org/pdf/1605.07146.pdf>`_\n",
    "    The model is the same as ResNet except for the bottleneck number of channels\n",
    "    which is twice larger in every block. The number of channels in outer 1x1\n",
    "    convolutions is the same, e.g. last block in ResNet-50 has 2048-512-2048\n",
    "    channels, and in Wide ResNet-50-2 has 2048-1024-2048.\n",
    "    Args:\n",
    "        pretrained (bool): If True, returns a model pre-trained on ImageNet\n",
    "        progress (bool): If True, displays a progress bar of the download to stderr\n",
    "    \"\"\"\n",
    "    kwargs['width_per_group'] = 64 * 2\n",
    "    return _resnet('wide_resnet50_2', Bottleneck, [3, 4, 6, 3],\n",
    "                   pretrained, progress, **kwargs)\n",
    "\n",
    "\n",
    "def wide_resnet101_2(pretrained=False, progress=True, **kwargs):\n",
    "    r\"\"\"Wide ResNet-101-2 model from\n",
    "    `\"Wide Residual Networks\" <https://arxiv.org/pdf/1605.07146.pdf>`_\n",
    "    The model is the same as ResNet except for the bottleneck number of channels\n",
    "    which is twice larger in every block. The number of channels in outer 1x1\n",
    "    convolutions is the same, e.g. last block in ResNet-50 has 2048-512-2048\n",
    "    channels, and in Wide ResNet-50-2 has 2048-1024-2048.\n",
    "    Args:\n",
    "        pretrained (bool): If True, returns a model pre-trained on ImageNet\n",
    "        progress (bool): If True, displays a progress bar of the download to stderr\n",
    "    \"\"\"\n",
    "    kwargs['width_per_group'] = 64 * 2\n",
    "    return _resnet('wide_resnet101_2', Bottleneck, [3, 4, 23, 3],\n",
    "                   pretrained, progress, **kwargs)"
   ]
  },
  {
   "cell_type": "code",
   "execution_count": 18,
   "metadata": {},
   "outputs": [],
   "source": [
    "model = resnet18(num_classes=10, zero_init_residual=True)"
   ]
  },
  {
   "cell_type": "code",
   "execution_count": 19,
   "metadata": {},
   "outputs": [
    {
     "name": "stderr",
     "output_type": "stream",
     "text": [
      "  0%|          | 0/50 [00:00<?, ?it/s]"
     ]
    },
    {
     "name": "stdout",
     "output_type": "stream",
     "text": [
      "Epoch 0: Loss: 1.7538173256627738 Batch Accuracy: 0.34204\n"
     ]
    },
    {
     "name": "stderr",
     "output_type": "stream",
     "text": [
      "  2%|▏         | 1/50 [00:50<40:50, 50.00s/it]"
     ]
    },
    {
     "name": "stdout",
     "output_type": "stream",
     "text": [
      "Test Set evaluation: Loss: 1.4275762295421166 Test Accuracy: 0.4725\n",
      "Epoch 1: Loss: 1.2989544685539383 Batch Accuracy: 0.5229\n"
     ]
    },
    {
     "name": "stderr",
     "output_type": "stream",
     "text": [
      "  4%|▍         | 2/50 [01:41<40:23, 50.48s/it]"
     ]
    },
    {
     "name": "stdout",
     "output_type": "stream",
     "text": [
      "Test Set evaluation: Loss: 1.1963112754157827 Test Accuracy: 0.5748\n",
      "Epoch 2: Loss: 1.0053520780390182 Batch Accuracy: 0.63848\n"
     ]
    },
    {
     "name": "stderr",
     "output_type": "stream",
     "text": [
      "  6%|▌         | 3/50 [02:32<39:34, 50.52s/it]"
     ]
    },
    {
     "name": "stdout",
     "output_type": "stream",
     "text": [
      "Test Set evaluation: Loss: 0.9582431716254994 Test Accuracy: 0.6684\n",
      "Epoch 3: Loss: 0.8117035924626128 Batch Accuracy: 0.71498\n"
     ]
    },
    {
     "name": "stderr",
     "output_type": "stream",
     "text": [
      "  8%|▊         | 4/50 [03:24<39:02, 50.93s/it]"
     ]
    },
    {
     "name": "stdout",
     "output_type": "stream",
     "text": [
      "Test Set evaluation: Loss: 0.8300923229772833 Test Accuracy: 0.7095\n",
      "Epoch 4: Loss: 0.6848032716899881 Batch Accuracy: 0.75976\n"
     ]
    },
    {
     "name": "stderr",
     "output_type": "stream",
     "text": [
      " 10%|█         | 5/50 [04:14<38:04, 50.77s/it]"
     ]
    },
    {
     "name": "stdout",
     "output_type": "stream",
     "text": [
      "Test Set evaluation: Loss: 0.8435894895957995 Test Accuracy: 0.7158\n",
      "Epoch 5: Loss: 0.6018538149573919 Batch Accuracy: 0.79118\n"
     ]
    },
    {
     "name": "stderr",
     "output_type": "stream",
     "text": [
      " 12%|█▏        | 6/50 [05:06<37:27, 51.07s/it]"
     ]
    },
    {
     "name": "stdout",
     "output_type": "stream",
     "text": [
      "Test Set evaluation: Loss: 0.655114742396753 Test Accuracy: 0.7766\n",
      "Epoch 6: Loss: 0.5387249505885726 Batch Accuracy: 0.81466\n"
     ]
    },
    {
     "name": "stderr",
     "output_type": "stream",
     "text": [
      " 14%|█▍        | 7/50 [05:57<36:39, 51.16s/it]"
     ]
    },
    {
     "name": "stdout",
     "output_type": "stream",
     "text": [
      "Test Set evaluation: Loss: 0.6164043375962898 Test Accuracy: 0.7886\n",
      "Epoch 7: Loss: 0.4890608366035744 Batch Accuracy: 0.8317\n"
     ]
    },
    {
     "name": "stderr",
     "output_type": "stream",
     "text": [
      " 16%|█▌        | 8/50 [06:48<35:48, 51.16s/it]"
     ]
    },
    {
     "name": "stdout",
     "output_type": "stream",
     "text": [
      "Test Set evaluation: Loss: 0.5427857475190223 Test Accuracy: 0.8195\n",
      "Epoch 8: Loss: 0.45650434097670534 Batch Accuracy: 0.84114\n"
     ]
    },
    {
     "name": "stderr",
     "output_type": "stream",
     "text": [
      " 18%|█▊        | 9/50 [07:40<35:07, 51.40s/it]"
     ]
    },
    {
     "name": "stdout",
     "output_type": "stream",
     "text": [
      "Test Set evaluation: Loss: 0.4899102426782439 Test Accuracy: 0.8317\n",
      "Epoch 9: Loss: 0.4244931630999841 Batch Accuracy: 0.85438\n"
     ]
    },
    {
     "name": "stderr",
     "output_type": "stream",
     "text": [
      " 20%|██        | 10/50 [08:31<34:09, 51.23s/it]"
     ]
    },
    {
     "name": "stdout",
     "output_type": "stream",
     "text": [
      "Test Set evaluation: Loss: 0.5688207285313667 Test Accuracy: 0.8026\n",
      "Epoch 10: Loss: 0.4040841365714207 Batch Accuracy: 0.86196\n"
     ]
    },
    {
     "name": "stderr",
     "output_type": "stream",
     "text": [
      " 22%|██▏       | 11/50 [09:22<33:16, 51.18s/it]"
     ]
    },
    {
     "name": "stdout",
     "output_type": "stream",
     "text": [
      "Test Set evaluation: Loss: 0.4504305146917512 Test Accuracy: 0.8473\n",
      "Epoch 11: Loss: 0.3822519499856188 Batch Accuracy: 0.86762\n"
     ]
    },
    {
     "name": "stderr",
     "output_type": "stream",
     "text": [
      " 24%|██▍       | 12/50 [10:14<32:27, 51.25s/it]"
     ]
    },
    {
     "name": "stdout",
     "output_type": "stream",
     "text": [
      "Test Set evaluation: Loss: 0.5255672245085994 Test Accuracy: 0.8292\n",
      "Epoch 12: Loss: 0.36711816516373774 Batch Accuracy: 0.87436\n"
     ]
    },
    {
     "name": "stderr",
     "output_type": "stream",
     "text": [
      " 26%|██▌       | 13/50 [11:04<31:31, 51.12s/it]"
     ]
    },
    {
     "name": "stdout",
     "output_type": "stream",
     "text": [
      "Test Set evaluation: Loss: 0.5475673845297173 Test Accuracy: 0.8187\n",
      "Epoch 13: Loss: 0.3543428705476434 Batch Accuracy: 0.87844\n"
     ]
    },
    {
     "name": "stderr",
     "output_type": "stream",
     "text": [
      " 28%|██▊       | 14/50 [11:56<30:40, 51.13s/it]"
     ]
    },
    {
     "name": "stdout",
     "output_type": "stream",
     "text": [
      "Test Set evaluation: Loss: 0.5287624308957329 Test Accuracy: 0.8319\n",
      "Epoch 14: Loss: 0.34355927127249103 Batch Accuracy: 0.88176\n"
     ]
    },
    {
     "name": "stderr",
     "output_type": "stream",
     "text": [
      " 30%|███       | 15/50 [12:48<29:58, 51.39s/it]"
     ]
    },
    {
     "name": "stdout",
     "output_type": "stream",
     "text": [
      "Test Set evaluation: Loss: 0.5164183295225795 Test Accuracy: 0.8313\n",
      "Epoch 15: Loss: 0.3323901127976225 Batch Accuracy: 0.88506\n"
     ]
    },
    {
     "name": "stderr",
     "output_type": "stream",
     "text": [
      " 32%|███▏      | 16/50 [13:39<29:03, 51.29s/it]"
     ]
    },
    {
     "name": "stdout",
     "output_type": "stream",
     "text": [
      "Test Set evaluation: Loss: 0.45658827544767644 Test Accuracy: 0.8469\n",
      "Epoch 16: Loss: 0.3206656807295197 Batch Accuracy: 0.89048\n"
     ]
    },
    {
     "name": "stderr",
     "output_type": "stream",
     "text": [
      " 34%|███▍      | 17/50 [14:30<28:13, 51.31s/it]"
     ]
    },
    {
     "name": "stdout",
     "output_type": "stream",
     "text": [
      "Test Set evaluation: Loss: 0.5179351836065703 Test Accuracy: 0.8299\n",
      "Epoch 17: Loss: 0.31248726187002324 Batch Accuracy: 0.89278\n"
     ]
    },
    {
     "name": "stderr",
     "output_type": "stream",
     "text": [
      " 36%|███▌      | 18/50 [15:20<27:14, 51.08s/it]"
     ]
    },
    {
     "name": "stdout",
     "output_type": "stream",
     "text": [
      "Test Set evaluation: Loss: 0.42690291548077064 Test Accuracy: 0.8533\n",
      "Epoch 18: Loss: 0.3051983140542379 Batch Accuracy: 0.89454\n"
     ]
    },
    {
     "name": "stderr",
     "output_type": "stream",
     "text": [
      " 38%|███▊      | 19/50 [16:12<26:27, 51.22s/it]"
     ]
    },
    {
     "name": "stdout",
     "output_type": "stream",
     "text": [
      "Test Set evaluation: Loss: 0.43184298767319207 Test Accuracy: 0.8619\n",
      "Epoch 19: Loss: 0.3006655822324631 Batch Accuracy: 0.89528\n"
     ]
    },
    {
     "name": "stderr",
     "output_type": "stream",
     "text": [
      " 40%|████      | 20/50 [17:03<25:30, 51.02s/it]"
     ]
    },
    {
     "name": "stdout",
     "output_type": "stream",
     "text": [
      "Test Set evaluation: Loss: 0.48629611692851105 Test Accuracy: 0.8458\n",
      "Epoch 20: Loss: 0.2925227373609762 Batch Accuracy: 0.89862\n"
     ]
    },
    {
     "name": "stderr",
     "output_type": "stream",
     "text": [
      " 42%|████▏     | 21/50 [17:58<25:19, 52.39s/it]"
     ]
    },
    {
     "name": "stdout",
     "output_type": "stream",
     "text": [
      "Test Set evaluation: Loss: 0.5218040935600861 Test Accuracy: 0.833\n",
      "Epoch 21: Loss: 0.2871566411403134 Batch Accuracy: 0.9012\n"
     ]
    },
    {
     "name": "stderr",
     "output_type": "stream",
     "text": [
      " 44%|████▍     | 22/50 [18:55<25:05, 53.77s/it]"
     ]
    },
    {
     "name": "stdout",
     "output_type": "stream",
     "text": [
      "Test Set evaluation: Loss: 0.45258520967975446 Test Accuracy: 0.8554\n",
      "Epoch 22: Loss: 0.28009202426580515 Batch Accuracy: 0.90248\n"
     ]
    },
    {
     "name": "stderr",
     "output_type": "stream",
     "text": [
      " 46%|████▌     | 23/50 [19:47<23:57, 53.23s/it]"
     ]
    },
    {
     "name": "stdout",
     "output_type": "stream",
     "text": [
      "Test Set evaluation: Loss: 0.39893190921107424 Test Accuracy: 0.866\n",
      "Epoch 23: Loss: 0.2760575013925962 Batch Accuracy: 0.9047\n"
     ]
    },
    {
     "name": "stderr",
     "output_type": "stream",
     "text": [
      " 48%|████▊     | 24/50 [20:37<22:37, 52.23s/it]"
     ]
    },
    {
     "name": "stdout",
     "output_type": "stream",
     "text": [
      "Test Set evaluation: Loss: 0.4362639069934435 Test Accuracy: 0.8576\n",
      "Epoch 24: Loss: 0.26825744022265113 Batch Accuracy: 0.90756\n"
     ]
    },
    {
     "name": "stderr",
     "output_type": "stream",
     "text": [
      " 50%|█████     | 25/50 [21:29<21:41, 52.05s/it]"
     ]
    },
    {
     "name": "stdout",
     "output_type": "stream",
     "text": [
      "Test Set evaluation: Loss: 0.4739775316247457 Test Accuracy: 0.8455\n",
      "Epoch 25: Loss: 0.14735408826633487 Batch Accuracy: 0.95104\n"
     ]
    },
    {
     "name": "stderr",
     "output_type": "stream",
     "text": [
      " 52%|█████▏    | 26/50 [22:20<20:42, 51.77s/it]"
     ]
    },
    {
     "name": "stdout",
     "output_type": "stream",
     "text": [
      "Test Set evaluation: Loss: 0.22356158702433865 Test Accuracy: 0.9236\n",
      "Epoch 26: Loss: 0.10720721624620125 Batch Accuracy: 0.9646\n"
     ]
    },
    {
     "name": "stderr",
     "output_type": "stream",
     "text": [
      " 54%|█████▍    | 27/50 [23:12<19:52, 51.84s/it]"
     ]
    },
    {
     "name": "stdout",
     "output_type": "stream",
     "text": [
      "Test Set evaluation: Loss: 0.21630240948517113 Test Accuracy: 0.9251\n",
      "Epoch 27: Loss: 0.09264172619813696 Batch Accuracy: 0.9688\n"
     ]
    },
    {
     "name": "stderr",
     "output_type": "stream",
     "text": [
      " 56%|█████▌    | 28/50 [24:04<18:59, 51.81s/it]"
     ]
    },
    {
     "name": "stdout",
     "output_type": "stream",
     "text": [
      "Test Set evaluation: Loss: 0.22138569711507122 Test Accuracy: 0.9273\n",
      "Epoch 28: Loss: 0.08537704858195294 Batch Accuracy: 0.9722\n"
     ]
    },
    {
     "name": "stderr",
     "output_type": "stream",
     "text": [
      " 58%|█████▊    | 29/50 [24:55<18:03, 51.59s/it]"
     ]
    },
    {
     "name": "stdout",
     "output_type": "stream",
     "text": [
      "Test Set evaluation: Loss: 0.22301889729650715 Test Accuracy: 0.9272\n",
      "Epoch 29: Loss: 0.07477373264425094 Batch Accuracy: 0.9752\n"
     ]
    },
    {
     "name": "stderr",
     "output_type": "stream",
     "text": [
      " 60%|██████    | 30/50 [25:46<17:09, 51.48s/it]"
     ]
    },
    {
     "name": "stdout",
     "output_type": "stream",
     "text": [
      "Test Set evaluation: Loss: 0.2208337804561929 Test Accuracy: 0.9278\n",
      "Epoch 30: Loss: 0.06709982919247101 Batch Accuracy: 0.97818\n"
     ]
    },
    {
     "name": "stderr",
     "output_type": "stream",
     "text": [
      " 62%|██████▏   | 31/50 [26:36<16:13, 51.23s/it]"
     ]
    },
    {
     "name": "stdout",
     "output_type": "stream",
     "text": [
      "Test Set evaluation: Loss: 0.224309417926058 Test Accuracy: 0.9304\n",
      "Epoch 31: Loss: 0.06074106051107807 Batch Accuracy: 0.97974\n"
     ]
    },
    {
     "name": "stderr",
     "output_type": "stream",
     "text": [
      " 64%|██████▍   | 32/50 [27:28<15:21, 51.19s/it]"
     ]
    },
    {
     "name": "stdout",
     "output_type": "stream",
     "text": [
      "Test Set evaluation: Loss: 0.23118809374827373 Test Accuracy: 0.9296\n",
      "Epoch 32: Loss: 0.05584979408642139 Batch Accuracy: 0.98182\n"
     ]
    },
    {
     "name": "stderr",
     "output_type": "stream",
     "text": [
      " 66%|██████▌   | 33/50 [28:19<14:30, 51.22s/it]"
     ]
    },
    {
     "name": "stdout",
     "output_type": "stream",
     "text": [
      "Test Set evaluation: Loss: 0.23613176636303526 Test Accuracy: 0.9287\n",
      "Epoch 33: Loss: 0.05082366930897279 Batch Accuracy: 0.98356\n"
     ]
    },
    {
     "name": "stderr",
     "output_type": "stream",
     "text": [
      " 68%|██████▊   | 34/50 [29:11<13:43, 51.49s/it]"
     ]
    },
    {
     "name": "stdout",
     "output_type": "stream",
     "text": [
      "Test Set evaluation: Loss: 0.23605398296178143 Test Accuracy: 0.9301\n",
      "Epoch 34: Loss: 0.04607647520197017 Batch Accuracy: 0.98532\n"
     ]
    },
    {
     "name": "stderr",
     "output_type": "stream",
     "text": [
      " 70%|███████   | 35/50 [30:02<12:50, 51.40s/it]"
     ]
    },
    {
     "name": "stdout",
     "output_type": "stream",
     "text": [
      "Test Set evaluation: Loss: 0.2397931295482418 Test Accuracy: 0.93\n",
      "Epoch 35: Loss: 0.042975453360963735 Batch Accuracy: 0.98648\n"
     ]
    },
    {
     "name": "stderr",
     "output_type": "stream",
     "text": [
      " 72%|███████▏  | 36/50 [30:55<12:04, 51.77s/it]"
     ]
    },
    {
     "name": "stdout",
     "output_type": "stream",
     "text": [
      "Test Set evaluation: Loss: 0.23974532662313194 Test Accuracy: 0.9327\n",
      "Epoch 36: Loss: 0.04150333629963953 Batch Accuracy: 0.98598\n"
     ]
    },
    {
     "name": "stderr",
     "output_type": "stream",
     "text": [
      " 74%|███████▍  | 37/50 [31:47<11:13, 51.78s/it]"
     ]
    },
    {
     "name": "stdout",
     "output_type": "stream",
     "text": [
      "Test Set evaluation: Loss: 0.24374684436789043 Test Accuracy: 0.9281\n",
      "Epoch 37: Loss: 0.03577223038443786 Batch Accuracy: 0.98856\n"
     ]
    },
    {
     "name": "stderr",
     "output_type": "stream",
     "text": [
      " 76%|███████▌  | 38/50 [32:39<10:22, 51.85s/it]"
     ]
    },
    {
     "name": "stdout",
     "output_type": "stream",
     "text": [
      "Test Set evaluation: Loss: 0.25440632853704165 Test Accuracy: 0.9306\n",
      "Epoch 38: Loss: 0.034380006493138306 Batch Accuracy: 0.98906\n"
     ]
    },
    {
     "name": "stderr",
     "output_type": "stream",
     "text": [
      " 78%|███████▊  | 39/50 [33:29<09:27, 51.55s/it]"
     ]
    },
    {
     "name": "stdout",
     "output_type": "stream",
     "text": [
      "Test Set evaluation: Loss: 0.25385011091262477 Test Accuracy: 0.9276\n",
      "Epoch 39: Loss: 0.03190028208457982 Batch Accuracy: 0.99022\n"
     ]
    },
    {
     "name": "stderr",
     "output_type": "stream",
     "text": [
      " 80%|████████  | 40/50 [34:22<08:38, 51.82s/it]"
     ]
    },
    {
     "name": "stdout",
     "output_type": "stream",
     "text": [
      "Test Set evaluation: Loss: 0.25902463618335847 Test Accuracy: 0.9301\n",
      "Epoch 40: Loss: 0.024193698128261377 Batch Accuracy: 0.99298\n"
     ]
    },
    {
     "name": "stderr",
     "output_type": "stream",
     "text": [
      " 82%|████████▏ | 41/50 [35:42<09:02, 60.30s/it]"
     ]
    },
    {
     "name": "stdout",
     "output_type": "stream",
     "text": [
      "Test Set evaluation: Loss: 0.24523458276179771 Test Accuracy: 0.9314\n",
      "Epoch 41: Loss: 0.020277326565135815 Batch Accuracy: 0.99444\n"
     ]
    },
    {
     "name": "stderr",
     "output_type": "stream",
     "text": [
      " 84%|████████▍ | 42/50 [37:03<08:51, 66.49s/it]"
     ]
    },
    {
     "name": "stdout",
     "output_type": "stream",
     "text": [
      "Test Set evaluation: Loss: 0.24300212785601616 Test Accuracy: 0.9328\n",
      "Epoch 42: Loss: 0.020014193174584062 Batch Accuracy: 0.9946\n"
     ]
    },
    {
     "name": "stderr",
     "output_type": "stream",
     "text": [
      " 86%|████████▌ | 43/50 [38:24<08:15, 70.74s/it]"
     ]
    },
    {
     "name": "stdout",
     "output_type": "stream",
     "text": [
      "Test Set evaluation: Loss: 0.24268414796907692 Test Accuracy: 0.9337\n",
      "Epoch 43: Loss: 0.019077582951442188 Batch Accuracy: 0.99476\n"
     ]
    },
    {
     "name": "stderr",
     "output_type": "stream",
     "text": [
      " 88%|████████▊ | 44/50 [39:44<07:22, 73.69s/it]"
     ]
    },
    {
     "name": "stdout",
     "output_type": "stream",
     "text": [
      "Test Set evaluation: Loss: 0.24157631755629672 Test Accuracy: 0.9345\n",
      "Epoch 44: Loss: 0.017886994134448945 Batch Accuracy: 0.9954\n"
     ]
    },
    {
     "name": "stderr",
     "output_type": "stream",
     "text": [
      " 90%|█████████ | 45/50 [41:05<06:19, 75.92s/it]"
     ]
    },
    {
     "name": "stdout",
     "output_type": "stream",
     "text": [
      "Test Set evaluation: Loss: 0.24353357083812543 Test Accuracy: 0.9333\n",
      "Epoch 45: Loss: 0.01744746431634497 Batch Accuracy: 0.9954\n"
     ]
    },
    {
     "name": "stderr",
     "output_type": "stream",
     "text": [
      " 92%|█████████▏| 46/50 [42:26<05:09, 77.29s/it]"
     ]
    },
    {
     "name": "stdout",
     "output_type": "stream",
     "text": [
      "Test Set evaluation: Loss: 0.2456820952364161 Test Accuracy: 0.9331\n",
      "Epoch 46: Loss: 0.017035247436474502 Batch Accuracy: 0.99572\n"
     ]
    },
    {
     "name": "stderr",
     "output_type": "stream",
     "text": [
      " 94%|█████████▍| 47/50 [43:47<03:55, 78.54s/it]"
     ]
    },
    {
     "name": "stdout",
     "output_type": "stream",
     "text": [
      "Test Set evaluation: Loss: 0.24183425250687177 Test Accuracy: 0.9338\n",
      "Epoch 47: Loss: 0.015888534776290018 Batch Accuracy: 0.9961\n"
     ]
    },
    {
     "name": "stderr",
     "output_type": "stream",
     "text": [
      " 96%|█████████▌| 48/50 [45:09<02:38, 79.41s/it]"
     ]
    },
    {
     "name": "stdout",
     "output_type": "stream",
     "text": [
      "Test Set evaluation: Loss: 0.24250886825066578 Test Accuracy: 0.9342\n",
      "Epoch 48: Loss: 0.01584761631925164 Batch Accuracy: 0.99622\n"
     ]
    },
    {
     "name": "stderr",
     "output_type": "stream",
     "text": [
      " 98%|█████████▊| 49/50 [46:30<01:19, 79.86s/it]"
     ]
    },
    {
     "name": "stdout",
     "output_type": "stream",
     "text": [
      "Test Set evaluation: Loss: 0.24583892165860044 Test Accuracy: 0.9331\n",
      "Epoch 49: Loss: 0.015083877407276378 Batch Accuracy: 0.99632\n"
     ]
    },
    {
     "name": "stderr",
     "output_type": "stream",
     "text": [
      "100%|██████████| 50/50 [47:50<00:00, 57.41s/it]"
     ]
    },
    {
     "name": "stdout",
     "output_type": "stream",
     "text": [
      "Test Set evaluation: Loss: 0.2459413333784176 Test Accuracy: 0.9342\n"
     ]
    },
    {
     "name": "stderr",
     "output_type": "stream",
     "text": [
      "\n"
     ]
    }
   ],
   "source": [
    "optimizer = torch.optim.SGD(model.parameters(), lr=0.05, momentum=0.9, weight_decay=5e-4)\n",
    "scheduler = torch.optim.lr_scheduler.MultiStepLR(optimizer, milestones=[25, 40], gamma=0.1)\n",
    "history = train(train_ds, test_ds, optimizer, model, scheduler=scheduler, epochs=HPS['epochs'])\n",
    "torch.save({\n",
    "    'model_state_dict': model.state_dict(),\n",
    "    'opt_state_dict': optimizer.state_dict(),\n",
    "    'history': history\n",
    "}, model_dir)"
   ]
  },
  {
   "cell_type": "code",
   "execution_count": 20,
   "metadata": {},
   "outputs": [
    {
     "name": "stdout",
     "output_type": "stream",
     "text": [
      "Test Set evaluation: Loss: 0.2459413333784176 Test Accuracy: 0.9342\n"
     ]
    },
    {
     "data": {
      "image/png": "[encoded data removed]",
      "text/plain": [
       "<Figure size 720x1152 with 3 Axes>"
      ]
     },
     "metadata": {
      "needs_background": "light"
     },
     "output_type": "display_data"
    }
   ],
   "source": [
    "checkpoint = torch.load(model_dir)\n",
    "r18 = resnet18(num_classes=10, zero_init_residual=True)\n",
    "r18.to(device)\n",
    "r18.load_state_dict(checkpoint['model_state_dict'])\n",
    "evaluate(test_ds, r18, nn.CrossEntropyLoss())\n",
    "plot_history(checkpoint['history'])"
   ]
  },
  {
   "cell_type": "code",
   "execution_count": 16,
   "metadata": {},
   "outputs": [
    {
     "name": "stderr",
     "output_type": "stream",
     "text": [
      "  0%|          | 0/50 [00:00<?, ?it/s]"
     ]
    },
    {
     "name": "stdout",
     "output_type": "stream",
     "text": [
      "Epoch 0: Loss: 1.7990354622721367 Batch Accuracy: 0.32254\n"
     ]
    },
    {
     "name": "stderr",
     "output_type": "stream",
     "text": [
      "  2%|▏         | 1/50 [00:37<30:43, 37.62s/it]"
     ]
    },
    {
     "name": "stdout",
     "output_type": "stream",
     "text": [
      "Test Set evaluation: Loss: 1.5245963576473767 Test Accuracy: 0.4279\n",
      "Epoch 1: Loss: 1.3974035399039384 Batch Accuracy: 0.48394\n"
     ]
    },
    {
     "name": "stderr",
     "output_type": "stream",
     "text": [
      "  4%|▍         | 2/50 [01:16<30:20, 37.93s/it]"
     ]
    },
    {
     "name": "stdout",
     "output_type": "stream",
     "text": [
      "Test Set evaluation: Loss: 1.2305199594437322 Test Accuracy: 0.5492\n",
      "Epoch 2: Loss: 1.106856496132853 Batch Accuracy: 0.59766\n"
     ]
    },
    {
     "name": "stderr",
     "output_type": "stream",
     "text": [
      "  6%|▌         | 3/50 [01:54<29:42, 37.93s/it]"
     ]
    },
    {
     "name": "stdout",
     "output_type": "stream",
     "text": [
      "Test Set evaluation: Loss: 1.26589835595481 Test Accuracy: 0.5921\n",
      "Epoch 3: Loss: 0.9330380647383687 Batch Accuracy: 0.66716\n"
     ]
    },
    {
     "name": "stderr",
     "output_type": "stream",
     "text": [
      "  8%|▊         | 4/50 [02:31<29:01, 37.85s/it]"
     ]
    },
    {
     "name": "stdout",
     "output_type": "stream",
     "text": [
      "Test Set evaluation: Loss: 1.0007430986513066 Test Accuracy: 0.6617\n",
      "Epoch 4: Loss: 0.8105714946146816 Batch Accuracy: 0.71292\n"
     ]
    },
    {
     "name": "stderr",
     "output_type": "stream",
     "text": [
      " 10%|█         | 5/50 [03:10<28:28, 37.96s/it]"
     ]
    },
    {
     "name": "stdout",
     "output_type": "stream",
     "text": [
      "Test Set evaluation: Loss: 0.9344036254701735 Test Accuracy: 0.69\n",
      "Epoch 5: Loss: 0.7157869958664145 Batch Accuracy: 0.74852\n"
     ]
    },
    {
     "name": "stderr",
     "output_type": "stream",
     "text": [
      " 12%|█▏        | 6/50 [03:47<27:40, 37.73s/it]"
     ]
    },
    {
     "name": "stdout",
     "output_type": "stream",
     "text": [
      "Test Set evaluation: Loss: 0.69611624675461 Test Accuracy: 0.7532\n",
      "Epoch 6: Loss: 0.632057290247944 Batch Accuracy: 0.77948\n"
     ]
    },
    {
     "name": "stderr",
     "output_type": "stream",
     "text": [
      " 14%|█▍        | 7/50 [04:25<27:04, 37.78s/it]"
     ]
    },
    {
     "name": "stdout",
     "output_type": "stream",
     "text": [
      "Test Set evaluation: Loss: 0.7945392659947842 Test Accuracy: 0.7424\n",
      "Epoch 7: Loss: 0.5777156382722928 Batch Accuracy: 0.80078\n"
     ]
    },
    {
     "name": "stderr",
     "output_type": "stream",
     "text": [
      " 16%|█▌        | 8/50 [05:01<26:13, 37.47s/it]"
     ]
    },
    {
     "name": "stdout",
     "output_type": "stream",
     "text": [
      "Test Set evaluation: Loss: 0.6979860101319566 Test Accuracy: 0.7639\n",
      "Epoch 8: Loss: 0.5297094468417984 Batch Accuracy: 0.81666\n"
     ]
    },
    {
     "name": "stderr",
     "output_type": "stream",
     "text": [
      " 18%|█▊        | 9/50 [05:40<25:44, 37.67s/it]"
     ]
    },
    {
     "name": "stdout",
     "output_type": "stream",
     "text": [
      "Test Set evaluation: Loss: 0.6644362841225877 Test Accuracy: 0.7748\n",
      "Epoch 9: Loss: 0.4967057378700627 Batch Accuracy: 0.8282\n"
     ]
    },
    {
     "name": "stderr",
     "output_type": "stream",
     "text": [
      " 20%|██        | 10/50 [06:17<25:04, 37.61s/it]"
     ]
    },
    {
     "name": "stdout",
     "output_type": "stream",
     "text": [
      "Test Set evaluation: Loss: 0.6817540292498432 Test Accuracy: 0.7838\n",
      "Epoch 10: Loss: 0.4657280614308994 Batch Accuracy: 0.83954\n"
     ]
    },
    {
     "name": "stderr",
     "output_type": "stream",
     "text": [
      " 22%|██▏       | 11/50 [06:54<24:24, 37.56s/it]"
     ]
    },
    {
     "name": "stdout",
     "output_type": "stream",
     "text": [
      "Test Set evaluation: Loss: 0.523247711643388 Test Accuracy: 0.8212\n",
      "Epoch 11: Loss: 0.4409369406340372 Batch Accuracy: 0.84938\n"
     ]
    },
    {
     "name": "stderr",
     "output_type": "stream",
     "text": [
      " 24%|██▍       | 12/50 [07:33<23:58, 37.87s/it]"
     ]
    },
    {
     "name": "stdout",
     "output_type": "stream",
     "text": [
      "Test Set evaluation: Loss: 0.619490601593935 Test Accuracy: 0.798\n",
      "Epoch 12: Loss: 0.4162701762774411 Batch Accuracy: 0.85684\n"
     ]
    },
    {
     "name": "stderr",
     "output_type": "stream",
     "text": [
      " 26%|██▌       | 13/50 [08:11<23:20, 37.84s/it]"
     ]
    },
    {
     "name": "stdout",
     "output_type": "stream",
     "text": [
      "Test Set evaluation: Loss: 0.47571372005003915 Test Accuracy: 0.8358\n",
      "Epoch 13: Loss: 0.3963219056958738 Batch Accuracy: 0.86352\n"
     ]
    },
    {
     "name": "stderr",
     "output_type": "stream",
     "text": [
      " 28%|██▊       | 14/50 [08:50<22:54, 38.19s/it]"
     ]
    },
    {
     "name": "stdout",
     "output_type": "stream",
     "text": [
      "Test Set evaluation: Loss: 0.5058493934854676 Test Accuracy: 0.8267\n",
      "Epoch 14: Loss: 0.39157507593369545 Batch Accuracy: 0.8641\n"
     ]
    },
    {
     "name": "stderr",
     "output_type": "stream",
     "text": [
      " 30%|███       | 15/50 [09:28<22:16, 38.19s/it]"
     ]
    },
    {
     "name": "stdout",
     "output_type": "stream",
     "text": [
      "Test Set evaluation: Loss: 0.46809350425684 Test Accuracy: 0.8409\n",
      "Epoch 15: Loss: 0.37608590866903513 Batch Accuracy: 0.8705\n"
     ]
    },
    {
     "name": "stderr",
     "output_type": "stream",
     "text": [
      " 32%|███▏      | 16/50 [10:05<21:30, 37.96s/it]"
     ]
    },
    {
     "name": "stdout",
     "output_type": "stream",
     "text": [
      "Test Set evaluation: Loss: 0.6612400469146197 Test Accuracy: 0.7905\n",
      "Epoch 16: Loss: 0.3637159839844155 Batch Accuracy: 0.87486\n"
     ]
    },
    {
     "name": "stderr",
     "output_type": "stream",
     "text": [
      " 34%|███▍      | 17/50 [10:44<20:57, 38.09s/it]"
     ]
    },
    {
     "name": "stdout",
     "output_type": "stream",
     "text": [
      "Test Set evaluation: Loss: 0.5694427965562555 Test Accuracy: 0.8136\n",
      "Epoch 17: Loss: 0.3526956056771071 Batch Accuracy: 0.8789\n"
     ]
    },
    {
     "name": "stderr",
     "output_type": "stream",
     "text": [
      " 36%|███▌      | 18/50 [11:22<20:18, 38.09s/it]"
     ]
    },
    {
     "name": "stdout",
     "output_type": "stream",
     "text": [
      "Test Set evaluation: Loss: 0.5998750212071817 Test Accuracy: 0.8129\n",
      "Epoch 18: Loss: 0.3519311503833517 Batch Accuracy: 0.87706\n"
     ]
    },
    {
     "name": "stderr",
     "output_type": "stream",
     "text": [
      " 38%|███▊      | 19/50 [11:59<19:35, 37.92s/it]"
     ]
    },
    {
     "name": "stdout",
     "output_type": "stream",
     "text": [
      "Test Set evaluation: Loss: 0.4305487003507493 Test Accuracy: 0.858\n",
      "Epoch 19: Loss: 0.33393100106045415 Batch Accuracy: 0.8846\n"
     ]
    },
    {
     "name": "stderr",
     "output_type": "stream",
     "text": [
      " 40%|████      | 20/50 [12:38<19:01, 38.06s/it]"
     ]
    },
    {
     "name": "stdout",
     "output_type": "stream",
     "text": [
      "Test Set evaluation: Loss: 0.4649215691451785 Test Accuracy: 0.849\n",
      "Epoch 20: Loss: 0.32835619460286386 Batch Accuracy: 0.88716\n"
     ]
    },
    {
     "name": "stderr",
     "output_type": "stream",
     "text": [
      " 42%|████▏     | 21/50 [13:15<18:14, 37.73s/it]"
     ]
    },
    {
     "name": "stdout",
     "output_type": "stream",
     "text": [
      "Test Set evaluation: Loss: 0.517901213863228 Test Accuracy: 0.833\n",
      "Epoch 21: Loss: 0.32626662992150585 Batch Accuracy: 0.8871\n"
     ]
    },
    {
     "name": "stderr",
     "output_type": "stream",
     "text": [
      " 44%|████▍     | 22/50 [13:52<17:29, 37.47s/it]"
     ]
    },
    {
     "name": "stdout",
     "output_type": "stream",
     "text": [
      "Test Set evaluation: Loss: 0.4404692276369167 Test Accuracy: 0.8542\n",
      "Epoch 22: Loss: 0.31474329858942107 Batch Accuracy: 0.89186\n"
     ]
    },
    {
     "name": "stderr",
     "output_type": "stream",
     "text": [
      " 46%|████▌     | 23/50 [14:29<16:51, 37.46s/it]"
     ]
    },
    {
     "name": "stdout",
     "output_type": "stream",
     "text": [
      "Test Set evaluation: Loss: 0.5915686914437934 Test Accuracy: 0.8115\n",
      "Epoch 23: Loss: 0.3107003290634936 Batch Accuracy: 0.89226\n"
     ]
    },
    {
     "name": "stderr",
     "output_type": "stream",
     "text": [
      " 48%|████▊     | 24/50 [15:07<16:20, 37.71s/it]"
     ]
    },
    {
     "name": "stdout",
     "output_type": "stream",
     "text": [
      "Test Set evaluation: Loss: 0.4909125319387339 Test Accuracy: 0.8405\n",
      "Epoch 24: Loss: 0.30568292927559076 Batch Accuracy: 0.89438\n"
     ]
    },
    {
     "name": "stderr",
     "output_type": "stream",
     "text": [
      " 50%|█████     | 25/50 [15:45<15:42, 37.69s/it]"
     ]
    },
    {
     "name": "stdout",
     "output_type": "stream",
     "text": [
      "Test Set evaluation: Loss: 0.4868251820908317 Test Accuracy: 0.8501\n",
      "Epoch 25: Loss: 0.19037651449746792 Batch Accuracy: 0.93774\n"
     ]
    },
    {
     "name": "stderr",
     "output_type": "stream",
     "text": [
      " 52%|█████▏    | 26/50 [16:23<15:08, 37.84s/it]"
     ]
    },
    {
     "name": "stdout",
     "output_type": "stream",
     "text": [
      "Test Set evaluation: Loss: 0.25507447194260885 Test Accuracy: 0.9136\n",
      "Epoch 26: Loss: 0.15352569011699818 Batch Accuracy: 0.9488\n"
     ]
    },
    {
     "name": "stderr",
     "output_type": "stream",
     "text": [
      " 54%|█████▍    | 27/50 [17:02<14:35, 38.06s/it]"
     ]
    },
    {
     "name": "stdout",
     "output_type": "stream",
     "text": [
      "Test Set evaluation: Loss: 0.24321699373518366 Test Accuracy: 0.919\n",
      "Epoch 27: Loss: 0.1366934133193377 Batch Accuracy: 0.95498\n"
     ]
    },
    {
     "name": "stderr",
     "output_type": "stream",
     "text": [
      " 56%|█████▌    | 28/50 [17:39<13:54, 37.94s/it]"
     ]
    },
    {
     "name": "stdout",
     "output_type": "stream",
     "text": [
      "Test Set evaluation: Loss: 0.24376356413092795 Test Accuracy: 0.918\n",
      "Epoch 28: Loss: 0.12629886186869857 Batch Accuracy: 0.95926\n"
     ]
    },
    {
     "name": "stderr",
     "output_type": "stream",
     "text": [
      " 58%|█████▊    | 29/50 [18:17<13:17, 37.96s/it]"
     ]
    },
    {
     "name": "stdout",
     "output_type": "stream",
     "text": [
      "Test Set evaluation: Loss: 0.23793267944379698 Test Accuracy: 0.9214\n",
      "Epoch 29: Loss: 0.11454590786334194 Batch Accuracy: 0.96284\n"
     ]
    },
    {
     "name": "stderr",
     "output_type": "stream",
     "text": [
      " 60%|██████    | 30/50 [18:55<12:33, 37.69s/it]"
     ]
    },
    {
     "name": "stdout",
     "output_type": "stream",
     "text": [
      "Test Set evaluation: Loss: 0.23773429363588744 Test Accuracy: 0.921\n",
      "Epoch 30: Loss: 0.10854553669462423 Batch Accuracy: 0.9649\n"
     ]
    },
    {
     "name": "stderr",
     "output_type": "stream",
     "text": [
      " 62%|██████▏   | 31/50 [19:32<11:52, 37.50s/it]"
     ]
    },
    {
     "name": "stdout",
     "output_type": "stream",
     "text": [
      "Test Set evaluation: Loss: 0.24512960733492165 Test Accuracy: 0.9196\n",
      "Epoch 31: Loss: 0.10191883547874668 Batch Accuracy: 0.96744\n"
     ]
    },
    {
     "name": "stderr",
     "output_type": "stream",
     "text": [
      " 64%|██████▍   | 32/50 [20:08<11:10, 37.27s/it]"
     ]
    },
    {
     "name": "stdout",
     "output_type": "stream",
     "text": [
      "Test Set evaluation: Loss: 0.2399919508378717 Test Accuracy: 0.9218\n",
      "Epoch 32: Loss: 0.09578042027666746 Batch Accuracy: 0.96878\n"
     ]
    },
    {
     "name": "stderr",
     "output_type": "stream",
     "text": [
      " 66%|██████▌   | 33/50 [20:47<10:39, 37.62s/it]"
     ]
    },
    {
     "name": "stdout",
     "output_type": "stream",
     "text": [
      "Test Set evaluation: Loss: 0.24629904221318946 Test Accuracy: 0.9194\n",
      "Epoch 33: Loss: 0.09174253762035114 Batch Accuracy: 0.97062\n"
     ]
    },
    {
     "name": "stderr",
     "output_type": "stream",
     "text": [
      " 68%|██████▊   | 34/50 [21:26<10:07, 37.98s/it]"
     ]
    },
    {
     "name": "stdout",
     "output_type": "stream",
     "text": [
      "Test Set evaluation: Loss: 0.24674019424975674 Test Accuracy: 0.9224\n",
      "Epoch 34: Loss: 0.0855597657773196 Batch Accuracy: 0.97226\n"
     ]
    },
    {
     "name": "stderr",
     "output_type": "stream",
     "text": [
      " 70%|███████   | 35/50 [22:03<09:25, 37.67s/it]"
     ]
    },
    {
     "name": "stdout",
     "output_type": "stream",
     "text": [
      "Test Set evaluation: Loss: 0.24565853169070015 Test Accuracy: 0.9221\n",
      "Epoch 35: Loss: 0.08006627379876116 Batch Accuracy: 0.97484\n"
     ]
    },
    {
     "name": "stderr",
     "output_type": "stream",
     "text": [
      " 72%|███████▏  | 36/50 [22:41<08:48, 37.76s/it]"
     ]
    },
    {
     "name": "stdout",
     "output_type": "stream",
     "text": [
      "Test Set evaluation: Loss: 0.25120076409812214 Test Accuracy: 0.9231\n",
      "Epoch 36: Loss: 0.07621662446852688 Batch Accuracy: 0.9758\n"
     ]
    },
    {
     "name": "stderr",
     "output_type": "stream",
     "text": [
      " 74%|███████▍  | 37/50 [23:18<08:08, 37.60s/it]"
     ]
    },
    {
     "name": "stdout",
     "output_type": "stream",
     "text": [
      "Test Set evaluation: Loss: 0.24519806213771242 Test Accuracy: 0.9238\n",
      "Epoch 37: Loss: 0.07321487341190466 Batch Accuracy: 0.97668\n"
     ]
    },
    {
     "name": "stderr",
     "output_type": "stream",
     "text": [
      " 76%|███████▌  | 38/50 [23:55<07:31, 37.60s/it]"
     ]
    },
    {
     "name": "stdout",
     "output_type": "stream",
     "text": [
      "Test Set evaluation: Loss: 0.24899269942241378 Test Accuracy: 0.9213\n",
      "Epoch 38: Loss: 0.06667048405484317 Batch Accuracy: 0.97934\n"
     ]
    },
    {
     "name": "stderr",
     "output_type": "stream",
     "text": [
      " 78%|███████▊  | 39/50 [24:33<06:54, 37.70s/it]"
     ]
    },
    {
     "name": "stdout",
     "output_type": "stream",
     "text": [
      "Test Set evaluation: Loss: 0.24759007933773572 Test Accuracy: 0.9262\n",
      "Epoch 39: Loss: 0.06615809489594167 Batch Accuracy: 0.97944\n"
     ]
    },
    {
     "name": "stderr",
     "output_type": "stream",
     "text": [
      " 80%|████████  | 40/50 [25:10<06:14, 37.49s/it]"
     ]
    },
    {
     "name": "stdout",
     "output_type": "stream",
     "text": [
      "Test Set evaluation: Loss: 0.2535456825943687 Test Accuracy: 0.9235\n",
      "Epoch 40: Loss: 0.053238739838342534 Batch Accuracy: 0.98454\n"
     ]
    },
    {
     "name": "stderr",
     "output_type": "stream",
     "text": [
      " 82%|████████▏ | 41/50 [25:48<05:37, 37.48s/it]"
     ]
    },
    {
     "name": "stdout",
     "output_type": "stream",
     "text": [
      "Test Set evaluation: Loss: 0.24262497545797615 Test Accuracy: 0.927\n",
      "Epoch 41: Loss: 0.049515293332297934 Batch Accuracy: 0.98618\n"
     ]
    },
    {
     "name": "stderr",
     "output_type": "stream",
     "text": [
      " 84%|████████▍ | 42/50 [26:25<05:00, 37.53s/it]"
     ]
    },
    {
     "name": "stdout",
     "output_type": "stream",
     "text": [
      "Test Set evaluation: Loss: 0.24359395911421958 Test Accuracy: 0.9291\n",
      "Epoch 42: Loss: 0.04816066673801988 Batch Accuracy: 0.98672\n"
     ]
    },
    {
     "name": "stderr",
     "output_type": "stream",
     "text": [
      " 86%|████████▌ | 43/50 [27:03<04:23, 37.60s/it]"
     ]
    },
    {
     "name": "stdout",
     "output_type": "stream",
     "text": [
      "Test Set evaluation: Loss: 0.23894723877310753 Test Accuracy: 0.9286\n",
      "Epoch 43: Loss: 0.04677960117969214 Batch Accuracy: 0.98772\n"
     ]
    },
    {
     "name": "stderr",
     "output_type": "stream",
     "text": [
      " 88%|████████▊ | 44/50 [27:40<03:44, 37.45s/it]"
     ]
    },
    {
     "name": "stdout",
     "output_type": "stream",
     "text": [
      "Test Set evaluation: Loss: 0.24002124288979965 Test Accuracy: 0.9285\n",
      "Epoch 44: Loss: 0.045809869213825294 Batch Accuracy: 0.9882\n"
     ]
    },
    {
     "name": "stderr",
     "output_type": "stream",
     "text": [
      " 90%|█████████ | 45/50 [28:18<03:07, 37.52s/it]"
     ]
    },
    {
     "name": "stdout",
     "output_type": "stream",
     "text": [
      "Test Set evaluation: Loss: 0.24289316773603234 Test Accuracy: 0.9301\n",
      "Epoch 45: Loss: 0.04409582005894702 Batch Accuracy: 0.9885\n"
     ]
    },
    {
     "name": "stderr",
     "output_type": "stream",
     "text": [
      " 92%|█████████▏| 46/50 [28:55<02:29, 37.44s/it]"
     ]
    },
    {
     "name": "stdout",
     "output_type": "stream",
     "text": [
      "Test Set evaluation: Loss: 0.2405159667700152 Test Accuracy: 0.9286\n",
      "Epoch 46: Loss: 0.044186280516293044 Batch Accuracy: 0.98852\n"
     ]
    },
    {
     "name": "stderr",
     "output_type": "stream",
     "text": [
      " 94%|█████████▍| 47/50 [29:34<01:53, 37.73s/it]"
     ]
    },
    {
     "name": "stdout",
     "output_type": "stream",
     "text": [
      "Test Set evaluation: Loss: 0.24042799606730667 Test Accuracy: 0.9294\n",
      "Epoch 47: Loss: 0.043476972350245696 Batch Accuracy: 0.98846\n"
     ]
    },
    {
     "name": "stderr",
     "output_type": "stream",
     "text": [
      " 96%|█████████▌| 48/50 [30:11<01:15, 37.56s/it]"
     ]
    },
    {
     "name": "stdout",
     "output_type": "stream",
     "text": [
      "Test Set evaluation: Loss: 0.24110966703937023 Test Accuracy: 0.9276\n",
      "Epoch 48: Loss: 0.04188471713610698 Batch Accuracy: 0.9895\n"
     ]
    },
    {
     "name": "stderr",
     "output_type": "stream",
     "text": [
      " 98%|█████████▊| 49/50 [30:48<00:37, 37.61s/it]"
     ]
    },
    {
     "name": "stdout",
     "output_type": "stream",
     "text": [
      "Test Set evaluation: Loss: 0.24157201178088972 Test Accuracy: 0.9294\n",
      "Epoch 49: Loss: 0.042218881342417136 Batch Accuracy: 0.98886\n"
     ]
    },
    {
     "name": "stderr",
     "output_type": "stream",
     "text": [
      "100%|██████████| 50/50 [31:25<00:00, 37.71s/it]"
     ]
    },
    {
     "name": "stdout",
     "output_type": "stream",
     "text": [
      "Test Set evaluation: Loss: 0.240675800868982 Test Accuracy: 0.9301\n"
     ]
    },
    {
     "name": "stderr",
     "output_type": "stream",
     "text": [
      "\n"
     ]
    }
   ],
   "source": [
    "model = resnet9(num_classes=10, zero_init_residual=True)\n",
    "optimizer = torch.optim.SGD(model.parameters(), lr=0.05, momentum=0.9, weight_decay=5e-4)\n",
    "scheduler = torch.optim.lr_scheduler.MultiStepLR(optimizer, milestones=[25, 40], gamma=0.1)\n",
    "history = train(train_ds, test_ds, optimizer, model, scheduler=scheduler, epochs=HPS['epochs'])\n",
    "torch.save({\n",
    "    'model_state_dict': model.state_dict(),\n",
    "    'opt_state_dict': optimizer.state_dict(),\n",
    "    'history': history\n",
    "}, f'{model_dir}_resnet9')"
   ]
  },
  {
   "cell_type": "code",
   "execution_count": 17,
   "metadata": {},
   "outputs": [
    {
     "name": "stdout",
     "output_type": "stream",
     "text": [
      "Test Set evaluation: Loss: 0.240675800868982 Test Accuracy: 0.9301\n"
     ]
    },
    {
     "data": {
      "image/png": "[encoded data removed]",
      "text/plain": [
       "<Figure size 720x1152 with 3 Axes>"
      ]
     },
     "metadata": {
      "needs_background": "light"
     },
     "output_type": "display_data"
    }
   ],
   "source": [
    "checkpoint = torch.load(f'{model_dir}_resnet9')\n",
    "r9 = resnet9(num_classes=10, zero_init_residual=True).to(device)\n",
    "r9.load_state_dict(checkpoint['model_state_dict'])\n",
    "evaluate(test_ds, r9, nn.CrossEntropyLoss())\n",
    "plot_history(checkpoint['history'])"
   ]
  },
  {
   "cell_type": "code",
   "execution_count": 14,
   "metadata": {},
   "outputs": [
    {
     "name": "stderr",
     "output_type": "stream",
     "text": [
      "  0%|          | 0/100 [00:00<?, ?it/s]"
     ]
    },
    {
     "name": "stdout",
     "output_type": "stream",
     "text": [
      "Epoch 0: Loss: 1.7519854660839072 Batch Accuracy: 0.3425\n"
     ]
    },
    {
     "name": "stderr",
     "output_type": "stream",
     "text": [
      "  1%|          | 1/100 [01:14<2:02:08, 74.02s/it]"
     ]
    },
    {
     "name": "stdout",
     "output_type": "stream",
     "text": [
      "Test Set evaluation: Loss: 1.559061106247238 Test Accuracy: 0.4343\n",
      "Epoch 1: Loss: 1.2713751231922823 Batch Accuracy: 0.53664\n"
     ]
    },
    {
     "name": "stderr",
     "output_type": "stream",
     "text": [
      "  2%|▏         | 2/100 [02:29<2:01:26, 74.35s/it]"
     ]
    },
    {
     "name": "stdout",
     "output_type": "stream",
     "text": [
      "Test Set evaluation: Loss: 1.2433847204039368 Test Accuracy: 0.5674\n",
      "Epoch 2: Loss: 0.9884406892235017 Batch Accuracy: 0.64328\n"
     ]
    },
    {
     "name": "stderr",
     "output_type": "stream",
     "text": [
      "  3%|▎         | 3/100 [03:45<2:01:01, 74.86s/it]"
     ]
    },
    {
     "name": "stdout",
     "output_type": "stream",
     "text": [
      "Test Set evaluation: Loss: 1.0102956951419009 Test Accuracy: 0.6532\n",
      "Epoch 3: Loss: 0.8378199968496551 Batch Accuracy: 0.70132\n"
     ]
    },
    {
     "name": "stderr",
     "output_type": "stream",
     "text": [
      "  4%|▍         | 4/100 [05:00<2:00:10, 75.11s/it]"
     ]
    },
    {
     "name": "stdout",
     "output_type": "stream",
     "text": [
      "Test Set evaluation: Loss: 0.9023083637032328 Test Accuracy: 0.6968\n",
      "Epoch 4: Loss: 0.712366155117674 Batch Accuracy: 0.75126\n"
     ]
    },
    {
     "name": "stderr",
     "output_type": "stream",
     "text": [
      "  5%|▌         | 5/100 [06:15<1:58:49, 75.04s/it]"
     ]
    },
    {
     "name": "stdout",
     "output_type": "stream",
     "text": [
      "Test Set evaluation: Loss: 0.7341368013544928 Test Accuracy: 0.7456\n",
      "Epoch 5: Loss: 0.6251104858982593 Batch Accuracy: 0.78362\n"
     ]
    },
    {
     "name": "stderr",
     "output_type": "stream",
     "text": [
      "  6%|▌         | 6/100 [07:31<1:57:46, 75.17s/it]"
     ]
    },
    {
     "name": "stdout",
     "output_type": "stream",
     "text": [
      "Test Set evaluation: Loss: 0.8497036786019048 Test Accuracy: 0.7158\n",
      "Epoch 6: Loss: 0.5561190251346744 Batch Accuracy: 0.80888\n"
     ]
    },
    {
     "name": "stderr",
     "output_type": "stream",
     "text": [
      "  7%|▋         | 7/100 [08:46<1:56:29, 75.16s/it]"
     ]
    },
    {
     "name": "stdout",
     "output_type": "stream",
     "text": [
      "Test Set evaluation: Loss: 0.6387201223192336 Test Accuracy: 0.7814\n",
      "Epoch 7: Loss: 0.5062871045621155 Batch Accuracy: 0.82518\n"
     ]
    },
    {
     "name": "stderr",
     "output_type": "stream",
     "text": [
      "  8%|▊         | 8/100 [10:00<1:54:57, 74.97s/it]"
     ]
    },
    {
     "name": "stdout",
     "output_type": "stream",
     "text": [
      "Test Set evaluation: Loss: 0.5784444865546648 Test Accuracy: 0.8038\n",
      "Epoch 8: Loss: 0.4676399401691564 Batch Accuracy: 0.83954\n"
     ]
    },
    {
     "name": "stderr",
     "output_type": "stream",
     "text": [
      "  9%|▉         | 9/100 [11:16<1:53:46, 75.01s/it]"
     ]
    },
    {
     "name": "stdout",
     "output_type": "stream",
     "text": [
      "Test Set evaluation: Loss: 0.5478684015666382 Test Accuracy: 0.8181\n",
      "Epoch 9: Loss: 0.4330363503045133 Batch Accuracy: 0.84976\n"
     ]
    },
    {
     "name": "stderr",
     "output_type": "stream",
     "text": [
      " 10%|█         | 10/100 [12:31<1:52:50, 75.23s/it]"
     ]
    },
    {
     "name": "stdout",
     "output_type": "stream",
     "text": [
      "Test Set evaluation: Loss: 0.6070060729980469 Test Accuracy: 0.8035\n",
      "Epoch 10: Loss: 0.4112959780046702 Batch Accuracy: 0.85824\n"
     ]
    },
    {
     "name": "stderr",
     "output_type": "stream",
     "text": [
      " 11%|█         | 11/100 [13:47<1:51:36, 75.24s/it]"
     ]
    },
    {
     "name": "stdout",
     "output_type": "stream",
     "text": [
      "Test Set evaluation: Loss: 0.620492274059525 Test Accuracy: 0.7955\n",
      "Epoch 11: Loss: 0.39178139474385837 Batch Accuracy: 0.8659\n"
     ]
    },
    {
     "name": "stderr",
     "output_type": "stream",
     "text": [
      " 12%|█▏        | 12/100 [15:01<1:50:05, 75.07s/it]"
     ]
    },
    {
     "name": "stdout",
     "output_type": "stream",
     "text": [
      "Test Set evaluation: Loss: 0.6957754783238037 Test Accuracy: 0.7828\n",
      "Epoch 12: Loss: 0.3759014583609598 Batch Accuracy: 0.87016\n"
     ]
    },
    {
     "name": "stderr",
     "output_type": "stream",
     "text": [
      " 13%|█▎        | 13/100 [16:16<1:48:55, 75.12s/it]"
     ]
    },
    {
     "name": "stdout",
     "output_type": "stream",
     "text": [
      "Test Set evaluation: Loss: 0.5765043802653687 Test Accuracy: 0.8102\n",
      "Epoch 13: Loss: 0.35735105637394254 Batch Accuracy: 0.87672\n"
     ]
    },
    {
     "name": "stderr",
     "output_type": "stream",
     "text": [
      " 14%|█▍        | 14/100 [17:31<1:47:35, 75.06s/it]"
     ]
    },
    {
     "name": "stdout",
     "output_type": "stream",
     "text": [
      "Test Set evaluation: Loss: 0.5087041439889353 Test Accuracy: 0.8353\n",
      "Epoch 14: Loss: 0.3427250061536689 Batch Accuracy: 0.88176\n"
     ]
    },
    {
     "name": "stderr",
     "output_type": "stream",
     "text": [
      " 15%|█▌        | 15/100 [18:46<1:46:16, 75.02s/it]"
     ]
    },
    {
     "name": "stdout",
     "output_type": "stream",
     "text": [
      "Test Set evaluation: Loss: 0.610286046809788 Test Accuracy: 0.8069\n",
      "Epoch 15: Loss: 0.3295628870539653 Batch Accuracy: 0.8873\n"
     ]
    },
    {
     "name": "stderr",
     "output_type": "stream",
     "text": [
      " 16%|█▌        | 16/100 [20:02<1:45:21, 75.25s/it]"
     ]
    },
    {
     "name": "stdout",
     "output_type": "stream",
     "text": [
      "Test Set evaluation: Loss: 0.4961752457709252 Test Accuracy: 0.8403\n",
      "Epoch 16: Loss: 0.32014283793204273 Batch Accuracy: 0.88918\n"
     ]
    },
    {
     "name": "stderr",
     "output_type": "stream",
     "text": [
      " 17%|█▋        | 17/100 [21:17<1:44:02, 75.21s/it]"
     ]
    },
    {
     "name": "stdout",
     "output_type": "stream",
     "text": [
      "Test Set evaluation: Loss: 0.5324012738994405 Test Accuracy: 0.8321\n",
      "Epoch 17: Loss: 0.31103830115721964 Batch Accuracy: 0.89286\n"
     ]
    },
    {
     "name": "stderr",
     "output_type": "stream",
     "text": [
      " 18%|█▊        | 18/100 [22:32<1:42:38, 75.10s/it]"
     ]
    },
    {
     "name": "stdout",
     "output_type": "stream",
     "text": [
      "Test Set evaluation: Loss: 0.5721191177262536 Test Accuracy: 0.8079\n",
      "Epoch 26: Loss: 0.2651613169275891 Batch Accuracy: 0.90892\n"
     ]
    },
    {
     "name": "stderr",
     "output_type": "stream",
     "text": [
      " 27%|██▋       | 27/100 [33:47<1:31:08, 74.91s/it]"
     ]
    },
    {
     "name": "stdout",
     "output_type": "stream",
     "text": [
      "Test Set evaluation: Loss: 0.38267304616261133 Test Accuracy: 0.8728\n",
      "Epoch 27: Loss: 0.26405732819567557 Batch Accuracy: 0.90896\n"
     ]
    },
    {
     "name": "stderr",
     "output_type": "stream",
     "text": [
      " 28%|██▊       | 28/100 [35:02<1:29:58, 74.98s/it]"
     ]
    },
    {
     "name": "stdout",
     "output_type": "stream",
     "text": [
      "Test Set evaluation: Loss: 0.4302271768639359 Test Accuracy: 0.86\n",
      "Epoch 28: Loss: 0.2536815934245239 Batch Accuracy: 0.91236\n"
     ]
    },
    {
     "name": "stderr",
     "output_type": "stream",
     "text": [
      " 29%|██▉       | 29/100 [36:17<1:28:51, 75.09s/it]"
     ]
    },
    {
     "name": "stdout",
     "output_type": "stream",
     "text": [
      "Test Set evaluation: Loss: 0.47628836352613907 Test Accuracy: 0.8495\n",
      "Epoch 29: Loss: 0.24991481029011708 Batch Accuracy: 0.91402\n"
     ]
    },
    {
     "name": "stderr",
     "output_type": "stream",
     "text": [
      " 30%|███       | 30/100 [37:23<1:24:25, 72.36s/it]"
     ]
    },
    {
     "name": "stdout",
     "output_type": "stream",
     "text": [
      "Test Set evaluation: Loss: 0.4288445045299168 Test Accuracy: 0.8611\n",
      "Epoch 30: Loss: 0.2543102116383555 Batch Accuracy: 0.91192\n"
     ]
    },
    {
     "name": "stderr",
     "output_type": "stream",
     "text": [
      " 31%|███       | 31/100 [38:15<1:16:03, 66.14s/it]"
     ]
    },
    {
     "name": "stdout",
     "output_type": "stream",
     "text": [
      "Test Set evaluation: Loss: 0.40834365653086313 Test Accuracy: 0.8659\n",
      "Epoch 31: Loss: 0.2498687262387227 Batch Accuracy: 0.91396\n"
     ]
    },
    {
     "name": "stderr",
     "output_type": "stream",
     "text": [
      " 32%|███▏      | 32/100 [39:09<1:11:02, 62.69s/it]"
     ]
    },
    {
     "name": "stdout",
     "output_type": "stream",
     "text": [
      "Test Set evaluation: Loss: 0.415821099771729 Test Accuracy: 0.8628\n",
      "Epoch 32: Loss: 0.2471371270963908 Batch Accuracy: 0.91582\n"
     ]
    },
    {
     "name": "stderr",
     "output_type": "stream",
     "text": [
      " 33%|███▎      | 33/100 [40:02<1:06:44, 59.77s/it]"
     ]
    },
    {
     "name": "stdout",
     "output_type": "stream",
     "text": [
      "Test Set evaluation: Loss: 0.45702762958369675 Test Accuracy: 0.8552\n",
      "Epoch 33: Loss: 0.23677981612475021 Batch Accuracy: 0.9184\n"
     ]
    },
    {
     "name": "stderr",
     "output_type": "stream",
     "text": [
      " 34%|███▍      | 34/100 [40:53<1:02:48, 57.10s/it]"
     ]
    },
    {
     "name": "stdout",
     "output_type": "stream",
     "text": [
      "Test Set evaluation: Loss: 0.5441178151323826 Test Accuracy: 0.8282\n",
      "Epoch 34: Loss: 0.2378409352639447 Batch Accuracy: 0.91784\n"
     ]
    },
    {
     "name": "stderr",
     "output_type": "stream",
     "text": [
      " 35%|███▌      | 35/100 [41:44<59:50, 55.23s/it]  "
     ]
    },
    {
     "name": "stdout",
     "output_type": "stream",
     "text": [
      "Test Set evaluation: Loss: 0.3682836390371564 Test Accuracy: 0.8824\n",
      "Epoch 35: Loss: 0.24421189281413014 Batch Accuracy: 0.91632\n"
     ]
    },
    {
     "name": "stderr",
     "output_type": "stream",
     "text": [
      " 36%|███▌      | 36/100 [42:36<57:56, 54.33s/it]"
     ]
    },
    {
     "name": "stdout",
     "output_type": "stream",
     "text": [
      "Test Set evaluation: Loss: 0.5382879346231871 Test Accuracy: 0.8343\n",
      "Epoch 36: Loss: 0.23674438196374936 Batch Accuracy: 0.91758\n"
     ]
    },
    {
     "name": "stderr",
     "output_type": "stream",
     "text": [
      " 37%|███▋      | 37/100 [43:28<56:03, 53.38s/it]"
     ]
    },
    {
     "name": "stdout",
     "output_type": "stream",
     "text": [
      "Test Set evaluation: Loss: 0.3632693681158597 Test Accuracy: 0.883\n",
      "Epoch 37: Loss: 0.23385528924748722 Batch Accuracy: 0.91952\n"
     ]
    },
    {
     "name": "stderr",
     "output_type": "stream",
     "text": [
      " 38%|███▊      | 38/100 [44:19<54:25, 52.68s/it]"
     ]
    },
    {
     "name": "stdout",
     "output_type": "stream",
     "text": [
      "Test Set evaluation: Loss: 0.5537700890740261 Test Accuracy: 0.8278\n",
      "Epoch 38: Loss: 0.23110296802066477 Batch Accuracy: 0.9194\n"
     ]
    },
    {
     "name": "stderr",
     "output_type": "stream",
     "text": [
      " 39%|███▉      | 39/100 [45:09<52:54, 52.04s/it]"
     ]
    },
    {
     "name": "stdout",
     "output_type": "stream",
     "text": [
      "Test Set evaluation: Loss: 0.4984657251382176 Test Accuracy: 0.8414\n",
      "Epoch 39: Loss: 0.22915031477008635 Batch Accuracy: 0.92174\n"
     ]
    },
    {
     "name": "stderr",
     "output_type": "stream",
     "text": [
      " 40%|████      | 40/100 [46:00<51:38, 51.64s/it]"
     ]
    },
    {
     "name": "stdout",
     "output_type": "stream",
     "text": [
      "Test Set evaluation: Loss: 0.4698364593182938 Test Accuracy: 0.8542\n",
      "Epoch 40: Loss: 0.11964438303047434 Batch Accuracy: 0.96126\n"
     ]
    },
    {
     "name": "stderr",
     "output_type": "stream",
     "text": [
      " 41%|████      | 41/100 [46:51<50:34, 51.44s/it]"
     ]
    },
    {
     "name": "stdout",
     "output_type": "stream",
     "text": [
      "Test Set evaluation: Loss: 0.20642845502382592 Test Accuracy: 0.9313\n",
      "Epoch 41: Loss: 0.08067566578459862 Batch Accuracy: 0.97414\n"
     ]
    },
    {
     "name": "stderr",
     "output_type": "stream",
     "text": [
      " 42%|████▏     | 42/100 [47:41<49:28, 51.18s/it]"
     ]
    },
    {
     "name": "stdout",
     "output_type": "stream",
     "text": [
      "Test Set evaluation: Loss: 0.205034713531974 Test Accuracy: 0.9347\n",
      "Epoch 42: Loss: 0.06791131794119201 Batch Accuracy: 0.97854\n"
     ]
    },
    {
     "name": "stderr",
     "output_type": "stream",
     "text": [
      " 43%|████▎     | 43/100 [48:32<48:30, 51.06s/it]"
     ]
    },
    {
     "name": "stdout",
     "output_type": "stream",
     "text": [
      "Test Set evaluation: Loss: 0.20569659363997134 Test Accuracy: 0.9357\n",
      "Epoch 43: Loss: 0.05713114931541102 Batch Accuracy: 0.9822\n"
     ]
    },
    {
     "name": "stderr",
     "output_type": "stream",
     "text": [
      " 44%|████▍     | 44/100 [49:24<47:48, 51.23s/it]"
     ]
    },
    {
     "name": "stdout",
     "output_type": "stream",
     "text": [
      "Test Set evaluation: Loss: 0.21076833678385878 Test Accuracy: 0.9356\n",
      "Epoch 44: Loss: 0.05169707286359785 Batch Accuracy: 0.98386\n"
     ]
    },
    {
     "name": "stderr",
     "output_type": "stream",
     "text": [
      " 45%|████▌     | 45/100 [50:16<47:10, 51.47s/it]"
     ]
    },
    {
     "name": "stdout",
     "output_type": "stream",
     "text": [
      "Test Set evaluation: Loss: 0.20823511509578438 Test Accuracy: 0.9366\n",
      "Epoch 45: Loss: 0.046086605931239207 Batch Accuracy: 0.9855\n"
     ]
    },
    {
     "name": "stderr",
     "output_type": "stream",
     "text": [
      " 46%|████▌     | 46/100 [51:07<46:09, 51.28s/it]"
     ]
    },
    {
     "name": "stdout",
     "output_type": "stream",
     "text": [
      "Test Set evaluation: Loss: 0.21387426640036739 Test Accuracy: 0.9386\n",
      "Epoch 46: Loss: 0.03899370258807412 Batch Accuracy: 0.98836\n"
     ]
    },
    {
     "name": "stderr",
     "output_type": "stream",
     "text": [
      " 47%|████▋     | 47/100 [51:58<45:15, 51.24s/it]"
     ]
    },
    {
     "name": "stdout",
     "output_type": "stream",
     "text": [
      "Test Set evaluation: Loss: 0.21753100442546833 Test Accuracy: 0.9392\n",
      "Epoch 47: Loss: 0.03681136338430864 Batch Accuracy: 0.98844\n"
     ]
    },
    {
     "name": "stderr",
     "output_type": "stream",
     "text": [
      " 48%|████▊     | 48/100 [52:49<44:17, 51.11s/it]"
     ]
    },
    {
     "name": "stdout",
     "output_type": "stream",
     "text": [
      "Test Set evaluation: Loss: 0.21615311267632473 Test Accuracy: 0.9399\n",
      "Epoch 48: Loss: 0.0339111618988235 Batch Accuracy: 0.9896\n"
     ]
    },
    {
     "name": "stderr",
     "output_type": "stream",
     "text": [
      " 49%|████▉     | 49/100 [53:40<43:34, 51.26s/it]"
     ]
    },
    {
     "name": "stdout",
     "output_type": "stream",
     "text": [
      "Test Set evaluation: Loss: 0.22321907746829564 Test Accuracy: 0.9381\n",
      "Epoch 49: Loss: 0.030659260146100733 Batch Accuracy: 0.99082\n"
     ]
    },
    {
     "name": "stderr",
     "output_type": "stream",
     "text": [
      " 50%|█████     | 50/100 [54:31<42:41, 51.23s/it]"
     ]
    },
    {
     "name": "stdout",
     "output_type": "stream",
     "text": [
      "Test Set evaluation: Loss: 0.22716705967919737 Test Accuracy: 0.9386\n",
      "Epoch 50: Loss: 0.026851107720690576 Batch Accuracy: 0.9916\n"
     ]
    },
    {
     "name": "stderr",
     "output_type": "stream",
     "text": [
      " 51%|█████     | 51/100 [55:22<41:47, 51.18s/it]"
     ]
    },
    {
     "name": "stdout",
     "output_type": "stream",
     "text": [
      "Test Set evaluation: Loss: 0.2274871814665915 Test Accuracy: 0.9391\n",
      "Epoch 51: Loss: 0.02434725977380372 Batch Accuracy: 0.9927\n"
     ]
    },
    {
     "name": "stderr",
     "output_type": "stream",
     "text": [
      " 52%|█████▏    | 52/100 [56:14<40:58, 51.23s/it]"
     ]
    },
    {
     "name": "stdout",
     "output_type": "stream",
     "text": [
      "Test Set evaluation: Loss: 0.22747952406164967 Test Accuracy: 0.9399\n",
      "Epoch 52: Loss: 0.020823076245305903 Batch Accuracy: 0.99424\n"
     ]
    },
    {
     "name": "stderr",
     "output_type": "stream",
     "text": [
      " 53%|█████▎    | 53/100 [57:05<40:02, 51.11s/it]"
     ]
    },
    {
     "name": "stdout",
     "output_type": "stream",
     "text": [
      "Test Set evaluation: Loss: 0.23550441493339178 Test Accuracy: 0.9382\n",
      "Epoch 53: Loss: 0.02160939513681852 Batch Accuracy: 0.9939\n"
     ]
    },
    {
     "name": "stderr",
     "output_type": "stream",
     "text": [
      " 54%|█████▍    | 54/100 [57:55<39:03, 50.94s/it]"
     ]
    },
    {
     "name": "stdout",
     "output_type": "stream",
     "text": [
      "Test Set evaluation: Loss: 0.23260168203070195 Test Accuracy: 0.9394\n",
      "Epoch 54: Loss: 0.01964178513211515 Batch Accuracy: 0.9942\n"
     ]
    },
    {
     "name": "stderr",
     "output_type": "stream",
     "text": [
      " 55%|█████▌    | 55/100 [58:46<38:14, 51.00s/it]"
     ]
    },
    {
     "name": "stdout",
     "output_type": "stream",
     "text": [
      "Test Set evaluation: Loss: 0.23418519452591485 Test Accuracy: 0.9397\n",
      "Epoch 55: Loss: 0.018848746098563685 Batch Accuracy: 0.99456\n"
     ]
    },
    {
     "name": "stderr",
     "output_type": "stream",
     "text": [
      " 56%|█████▌    | 56/100 [59:37<37:23, 51.00s/it]"
     ]
    },
    {
     "name": "stdout",
     "output_type": "stream",
     "text": [
      "Test Set evaluation: Loss: 0.25284011487530755 Test Accuracy: 0.9358\n",
      "Epoch 56: Loss: 0.01669956326110722 Batch Accuracy: 0.99554\n"
     ]
    },
    {
     "name": "stderr",
     "output_type": "stream",
     "text": [
      " 57%|█████▋    | 57/100 [1:00:28<36:31, 50.96s/it]"
     ]
    },
    {
     "name": "stdout",
     "output_type": "stream",
     "text": [
      "Test Set evaluation: Loss: 0.24530014952149573 Test Accuracy: 0.9381\n",
      "Epoch 57: Loss: 0.016090847287431854 Batch Accuracy: 0.99528\n"
     ]
    },
    {
     "name": "stderr",
     "output_type": "stream",
     "text": [
      " 58%|█████▊    | 58/100 [1:01:19<35:44, 51.05s/it]"
     ]
    },
    {
     "name": "stdout",
     "output_type": "stream",
     "text": [
      "Test Set evaluation: Loss: 0.2491278158901613 Test Accuracy: 0.9362\n",
      "Epoch 58: Loss: 0.015323917775372009 Batch Accuracy: 0.99592\n"
     ]
    },
    {
     "name": "stderr",
     "output_type": "stream",
     "text": [
      " 59%|█████▉    | 59/100 [1:02:11<34:58, 51.19s/it]"
     ]
    },
    {
     "name": "stdout",
     "output_type": "stream",
     "text": [
      "Test Set evaluation: Loss: 0.25014673824174494 Test Accuracy: 0.9377\n",
      "Epoch 59: Loss: 0.015165563165436468 Batch Accuracy: 0.99576\n"
     ]
    },
    {
     "name": "stderr",
     "output_type": "stream",
     "text": [
      " 60%|██████    | 60/100 [1:03:02<34:10, 51.26s/it]"
     ]
    },
    {
     "name": "stdout",
     "output_type": "stream",
     "text": [
      "Test Set evaluation: Loss: 0.24783100692343107 Test Accuracy: 0.9381\n",
      "Epoch 60: Loss: 0.013220732931293014 Batch Accuracy: 0.9963\n"
     ]
    },
    {
     "name": "stderr",
     "output_type": "stream",
     "text": [
      " 61%|██████    | 61/100 [1:03:53<33:12, 51.08s/it]"
     ]
    },
    {
     "name": "stdout",
     "output_type": "stream",
     "text": [
      "Test Set evaluation: Loss: 0.25117962581070163 Test Accuracy: 0.9393\n",
      "Epoch 61: Loss: 0.013531198193345343 Batch Accuracy: 0.99648\n"
     ]
    },
    {
     "name": "stderr",
     "output_type": "stream",
     "text": [
      " 62%|██████▏   | 62/100 [1:04:44<32:21, 51.10s/it]"
     ]
    },
    {
     "name": "stdout",
     "output_type": "stream",
     "text": [
      "Test Set evaluation: Loss: 0.25054035222605814 Test Accuracy: 0.9386\n",
      "Epoch 62: Loss: 0.015033814309955672 Batch Accuracy: 0.99582\n"
     ]
    },
    {
     "name": "stderr",
     "output_type": "stream",
     "text": [
      " 63%|██████▎   | 63/100 [1:05:36<31:33, 51.18s/it]"
     ]
    },
    {
     "name": "stdout",
     "output_type": "stream",
     "text": [
      "Test Set evaluation: Loss: 0.2483217786950401 Test Accuracy: 0.938\n",
      "Epoch 63: Loss: 0.013141524085960806 Batch Accuracy: 0.9966\n"
     ]
    },
    {
     "name": "stderr",
     "output_type": "stream",
     "text": [
      " 64%|██████▍   | 64/100 [1:06:28<30:54, 51.51s/it]"
     ]
    },
    {
     "name": "stdout",
     "output_type": "stream",
     "text": [
      "Test Set evaluation: Loss: 0.2528877836428111 Test Accuracy: 0.9369\n",
      "Epoch 64: Loss: 0.013177784409878962 Batch Accuracy: 0.9963\n"
     ]
    },
    {
     "name": "stderr",
     "output_type": "stream",
     "text": [
      " 65%|██████▌   | 65/100 [1:07:20<30:07, 51.65s/it]"
     ]
    },
    {
     "name": "stdout",
     "output_type": "stream",
     "text": [
      "Test Set evaluation: Loss: 0.25070509729506096 Test Accuracy: 0.9385\n",
      "Epoch 65: Loss: 0.012553222539067706 Batch Accuracy: 0.99652\n"
     ]
    },
    {
     "name": "stderr",
     "output_type": "stream",
     "text": [
      " 66%|██████▌   | 66/100 [1:08:11<29:11, 51.53s/it]"
     ]
    },
    {
     "name": "stdout",
     "output_type": "stream",
     "text": [
      "Test Set evaluation: Loss: 0.25191880375901354 Test Accuracy: 0.9374\n",
      "Epoch 66: Loss: 0.012606494085829886 Batch Accuracy: 0.99622\n"
     ]
    },
    {
     "name": "stderr",
     "output_type": "stream",
     "text": [
      " 67%|██████▋   | 67/100 [1:09:03<28:24, 51.65s/it]"
     ]
    },
    {
     "name": "stdout",
     "output_type": "stream",
     "text": [
      "Test Set evaluation: Loss: 0.24941347350802603 Test Accuracy: 0.9382\n",
      "Epoch 67: Loss: 0.011453458345006875 Batch Accuracy: 0.99668\n"
     ]
    },
    {
     "name": "stderr",
     "output_type": "stream",
     "text": [
      " 68%|██████▊   | 68/100 [1:09:54<27:23, 51.37s/it]"
     ]
    },
    {
     "name": "stdout",
     "output_type": "stream",
     "text": [
      "Test Set evaluation: Loss: 0.2575668190853505 Test Accuracy: 0.9387\n",
      "Epoch 68: Loss: 0.01196965494233629 Batch Accuracy: 0.99682\n"
     ]
    },
    {
     "name": "stderr",
     "output_type": "stream",
     "text": [
      " 69%|██████▉   | 69/100 [1:10:45<26:30, 51.30s/it]"
     ]
    },
    {
     "name": "stdout",
     "output_type": "stream",
     "text": [
      "Test Set evaluation: Loss: 0.26037623153268535 Test Accuracy: 0.9365\n",
      "Epoch 69: Loss: 0.012049384706039125 Batch Accuracy: 0.9965\n"
     ]
    },
    {
     "name": "stderr",
     "output_type": "stream",
     "text": [
      " 70%|███████   | 70/100 [1:11:36<25:36, 51.22s/it]"
     ]
    },
    {
     "name": "stdout",
     "output_type": "stream",
     "text": [
      "Test Set evaluation: Loss: 0.2581764314370819 Test Accuracy: 0.9373\n",
      "Epoch 70: Loss: 0.009728044632922315 Batch Accuracy: 0.99758\n"
     ]
    },
    {
     "name": "stderr",
     "output_type": "stream",
     "text": [
      " 71%|███████   | 71/100 [1:12:27<24:45, 51.21s/it]"
     ]
    },
    {
     "name": "stdout",
     "output_type": "stream",
     "text": [
      "Test Set evaluation: Loss: 0.2446797862177408 Test Accuracy: 0.9408\n",
      "Epoch 71: Loss: 0.007557502891028733 Batch Accuracy: 0.99836\n"
     ]
    },
    {
     "name": "stderr",
     "output_type": "stream",
     "text": [
      " 72%|███████▏  | 72/100 [1:13:18<23:53, 51.19s/it]"
     ]
    },
    {
     "name": "stdout",
     "output_type": "stream",
     "text": [
      "Test Set evaluation: Loss: 0.24416540063257458 Test Accuracy: 0.9405\n",
      "Epoch 72: Loss: 0.0062212964379624045 Batch Accuracy: 0.99868\n"
     ]
    },
    {
     "name": "stderr",
     "output_type": "stream",
     "text": [
      " 73%|███████▎  | 73/100 [1:14:10<23:03, 51.24s/it]"
     ]
    },
    {
     "name": "stdout",
     "output_type": "stream",
     "text": [
      "Test Set evaluation: Loss: 0.24409273469561263 Test Accuracy: 0.9424\n",
      "Epoch 73: Loss: 0.00611876581585311 Batch Accuracy: 0.99872\n"
     ]
    },
    {
     "name": "stderr",
     "output_type": "stream",
     "text": [
      " 74%|███████▍  | 74/100 [1:15:00<22:09, 51.15s/it]"
     ]
    },
    {
     "name": "stdout",
     "output_type": "stream",
     "text": [
      "Test Set evaluation: Loss: 0.24010672967267943 Test Accuracy: 0.9426\n",
      "Epoch 74: Loss: 0.005846546769030202 Batch Accuracy: 0.99884\n"
     ]
    },
    {
     "name": "stderr",
     "output_type": "stream",
     "text": [
      " 75%|███████▌  | 75/100 [1:15:52<21:18, 51.14s/it]"
     ]
    },
    {
     "name": "stdout",
     "output_type": "stream",
     "text": [
      "Test Set evaluation: Loss: 0.2390766548393648 Test Accuracy: 0.9422\n",
      "Epoch 75: Loss: 0.0059382681042025025 Batch Accuracy: 0.99886\n"
     ]
    },
    {
     "name": "stderr",
     "output_type": "stream",
     "text": [
      " 76%|███████▌  | 76/100 [1:16:43<20:30, 51.29s/it]"
     ]
    },
    {
     "name": "stdout",
     "output_type": "stream",
     "text": [
      "Test Set evaluation: Loss: 0.23838161431913135 Test Accuracy: 0.9435\n",
      "Epoch 76: Loss: 0.005427978846513669 Batch Accuracy: 0.999\n"
     ]
    },
    {
     "name": "stderr",
     "output_type": "stream",
     "text": [
      " 77%|███████▋  | 77/100 [1:17:35<19:39, 51.29s/it]"
     ]
    },
    {
     "name": "stdout",
     "output_type": "stream",
     "text": [
      "Test Set evaluation: Loss: 0.2392611403159703 Test Accuracy: 0.942\n",
      "Epoch 77: Loss: 0.005322860803364602 Batch Accuracy: 0.99906\n"
     ]
    },
    {
     "name": "stderr",
     "output_type": "stream",
     "text": [
      " 78%|███████▊  | 78/100 [1:18:26<18:46, 51.20s/it]"
     ]
    },
    {
     "name": "stdout",
     "output_type": "stream",
     "text": [
      "Test Set evaluation: Loss: 0.23915732071935375 Test Accuracy: 0.9426\n",
      "Epoch 78: Loss: 0.004813794788155381 Batch Accuracy: 0.9993\n"
     ]
    },
    {
     "name": "stderr",
     "output_type": "stream",
     "text": [
      " 79%|███████▉  | 79/100 [1:19:16<17:49, 50.91s/it]"
     ]
    },
    {
     "name": "stdout",
     "output_type": "stream",
     "text": [
      "Test Set evaluation: Loss: 0.23991607072987134 Test Accuracy: 0.9427\n",
      "Epoch 79: Loss: 0.0050321180210270156 Batch Accuracy: 0.99892\n"
     ]
    },
    {
     "name": "stderr",
     "output_type": "stream",
     "text": [
      " 80%|████████  | 80/100 [1:20:07<17:01, 51.07s/it]"
     ]
    },
    {
     "name": "stdout",
     "output_type": "stream",
     "text": [
      "Test Set evaluation: Loss: 0.23642962237324897 Test Accuracy: 0.943\n",
      "Epoch 80: Loss: 0.00447191150285556 Batch Accuracy: 0.99924\n"
     ]
    },
    {
     "name": "stderr",
     "output_type": "stream",
     "text": [
      " 81%|████████  | 81/100 [1:20:58<16:09, 51.02s/it]"
     ]
    },
    {
     "name": "stdout",
     "output_type": "stream",
     "text": [
      "Test Set evaluation: Loss: 0.2392195030763934 Test Accuracy: 0.9425\n",
      "Epoch 81: Loss: 0.0044469925788733775 Batch Accuracy: 0.99928\n"
     ]
    },
    {
     "name": "stderr",
     "output_type": "stream",
     "text": [
      " 82%|████████▏ | 82/100 [1:21:49<15:17, 50.99s/it]"
     ]
    },
    {
     "name": "stdout",
     "output_type": "stream",
     "text": [
      "Test Set evaluation: Loss: 0.23734176729487466 Test Accuracy: 0.9437\n",
      "Epoch 82: Loss: 0.00429953439691154 Batch Accuracy: 0.99938\n"
     ]
    },
    {
     "name": "stderr",
     "output_type": "stream",
     "text": [
      " 83%|████████▎ | 83/100 [1:22:40<14:25, 50.92s/it]"
     ]
    },
    {
     "name": "stdout",
     "output_type": "stream",
     "text": [
      "Test Set evaluation: Loss: 0.23574000573422335 Test Accuracy: 0.9435\n",
      "Epoch 83: Loss: 0.004096856430682647 Batch Accuracy: 0.99942\n"
     ]
    },
    {
     "name": "stderr",
     "output_type": "stream",
     "text": [
      " 84%|████████▍ | 84/100 [1:23:32<13:40, 51.28s/it]"
     ]
    },
    {
     "name": "stdout",
     "output_type": "stream",
     "text": [
      "Test Set evaluation: Loss: 0.2378626415340961 Test Accuracy: 0.9438\n",
      "Epoch 84: Loss: 0.004191802152434883 Batch Accuracy: 0.99936\n"
     ]
    },
    {
     "name": "stderr",
     "output_type": "stream",
     "text": [
      " 85%|████████▌ | 85/100 [1:24:23<12:49, 51.27s/it]"
     ]
    },
    {
     "name": "stdout",
     "output_type": "stream",
     "text": [
      "Test Set evaluation: Loss: 0.24043298399523844 Test Accuracy: 0.9433\n",
      "Epoch 85: Loss: 0.003933234552792071 Batch Accuracy: 0.99944\n"
     ]
    },
    {
     "name": "stderr",
     "output_type": "stream",
     "text": [
      " 86%|████████▌ | 86/100 [1:25:15<11:58, 51.34s/it]"
     ]
    },
    {
     "name": "stdout",
     "output_type": "stream",
     "text": [
      "Test Set evaluation: Loss: 0.23701931286273123 Test Accuracy: 0.9427\n",
      "Epoch 86: Loss: 0.004197612555925032 Batch Accuracy: 0.99946\n"
     ]
    },
    {
     "name": "stderr",
     "output_type": "stream",
     "text": [
      " 87%|████████▋ | 87/100 [1:26:06<11:05, 51.21s/it]"
     ]
    },
    {
     "name": "stdout",
     "output_type": "stream",
     "text": [
      "Test Set evaluation: Loss: 0.2357837276745446 Test Accuracy: 0.9433\n",
      "Epoch 87: Loss: 0.004268821573767411 Batch Accuracy: 0.99926\n"
     ]
    },
    {
     "name": "stderr",
     "output_type": "stream",
     "text": [
      " 88%|████████▊ | 88/100 [1:26:57<10:14, 51.19s/it]"
     ]
    },
    {
     "name": "stdout",
     "output_type": "stream",
     "text": [
      "Test Set evaluation: Loss: 0.23655285011929802 Test Accuracy: 0.9443\n",
      "Epoch 88: Loss: 0.003979725364233603 Batch Accuracy: 0.9994\n"
     ]
    },
    {
     "name": "stderr",
     "output_type": "stream",
     "text": [
      " 89%|████████▉ | 89/100 [1:27:47<09:21, 51.07s/it]"
     ]
    },
    {
     "name": "stdout",
     "output_type": "stream",
     "text": [
      "Test Set evaluation: Loss: 0.240132735924253 Test Accuracy: 0.9431\n",
      "Epoch 89: Loss: 0.0039814967638872505 Batch Accuracy: 0.99934\n"
     ]
    },
    {
     "name": "stderr",
     "output_type": "stream",
     "text": [
      " 90%|█████████ | 90/100 [1:28:38<08:30, 51.05s/it]"
     ]
    },
    {
     "name": "stdout",
     "output_type": "stream",
     "text": [
      "Test Set evaluation: Loss: 0.23715497459037393 Test Accuracy: 0.943\n",
      "Epoch 90: Loss: 0.004100240448125354 Batch Accuracy: 0.99942\n"
     ]
    },
    {
     "name": "stderr",
     "output_type": "stream",
     "text": [
      " 91%|█████████ | 91/100 [1:29:30<07:40, 51.20s/it]"
     ]
    },
    {
     "name": "stdout",
     "output_type": "stream",
     "text": [
      "Test Set evaluation: Loss: 0.23805817160048062 Test Accuracy: 0.9438\n",
      "Epoch 91: Loss: 0.0036437547778474916 Batch Accuracy: 0.99948\n"
     ]
    },
    {
     "name": "stderr",
     "output_type": "stream",
     "text": [
      " 92%|█████████▏| 92/100 [1:30:21<06:50, 51.25s/it]"
     ]
    },
    {
     "name": "stdout",
     "output_type": "stream",
     "text": [
      "Test Set evaluation: Loss: 0.23741163733073428 Test Accuracy: 0.9437\n",
      "Epoch 92: Loss: 0.003893860560857341 Batch Accuracy: 0.99948\n"
     ]
    },
    {
     "name": "stderr",
     "output_type": "stream",
     "text": [
      " 93%|█████████▎| 93/100 [1:31:12<05:58, 51.15s/it]"
     ]
    },
    {
     "name": "stdout",
     "output_type": "stream",
     "text": [
      "Test Set evaluation: Loss: 0.23939703013512154 Test Accuracy: 0.9426\n",
      "Epoch 93: Loss: 0.0038479782630215444 Batch Accuracy: 0.99946\n"
     ]
    },
    {
     "name": "stderr",
     "output_type": "stream",
     "text": [
      " 94%|█████████▍| 94/100 [1:32:03<05:06, 51.10s/it]"
     ]
    },
    {
     "name": "stdout",
     "output_type": "stream",
     "text": [
      "Test Set evaluation: Loss: 0.23663281163648714 Test Accuracy: 0.9426\n",
      "Epoch 94: Loss: 0.003583507116019364 Batch Accuracy: 0.99956\n"
     ]
    },
    {
     "name": "stderr",
     "output_type": "stream",
     "text": [
      " 95%|█████████▌| 95/100 [1:32:54<04:15, 51.05s/it]"
     ]
    },
    {
     "name": "stdout",
     "output_type": "stream",
     "text": [
      "Test Set evaluation: Loss: 0.23793692655767065 Test Accuracy: 0.9438\n",
      "Epoch 95: Loss: 0.0033491755711555463 Batch Accuracy: 0.99962\n"
     ]
    },
    {
     "name": "stderr",
     "output_type": "stream",
     "text": [
      " 96%|█████████▌| 96/100 [1:33:45<03:24, 51.03s/it]"
     ]
    },
    {
     "name": "stdout",
     "output_type": "stream",
     "text": [
      "Test Set evaluation: Loss: 0.23834940135667596 Test Accuracy: 0.9437\n",
      "Epoch 96: Loss: 0.0037305225059032785 Batch Accuracy: 0.99948\n"
     ]
    },
    {
     "name": "stderr",
     "output_type": "stream",
     "text": [
      " 97%|█████████▋| 97/100 [1:34:37<02:33, 51.14s/it]"
     ]
    },
    {
     "name": "stdout",
     "output_type": "stream",
     "text": [
      "Test Set evaluation: Loss: 0.23687460575299926 Test Accuracy: 0.9436\n",
      "Epoch 97: Loss: 0.0035283830846943283 Batch Accuracy: 0.99954\n"
     ]
    },
    {
     "name": "stderr",
     "output_type": "stream",
     "text": [
      " 98%|█████████▊| 98/100 [1:35:28<01:42, 51.08s/it]"
     ]
    },
    {
     "name": "stdout",
     "output_type": "stream",
     "text": [
      "Test Set evaluation: Loss: 0.2380559157721604 Test Accuracy: 0.9434\n",
      "Epoch 98: Loss: 0.003761063701154002 Batch Accuracy: 0.99946\n"
     ]
    },
    {
     "name": "stderr",
     "output_type": "stream",
     "text": [
      " 99%|█████████▉| 99/100 [1:36:18<00:51, 51.01s/it]"
     ]
    },
    {
     "name": "stdout",
     "output_type": "stream",
     "text": [
      "Test Set evaluation: Loss: 0.23872471945006637 Test Accuracy: 0.9432\n",
      "Epoch 99: Loss: 0.0035836023117458483 Batch Accuracy: 0.99946\n"
     ]
    },
    {
     "name": "stderr",
     "output_type": "stream",
     "text": [
      "100%|██████████| 100/100 [1:37:09<00:00, 58.30s/it]"
     ]
    },
    {
     "name": "stdout",
     "output_type": "stream",
     "text": [
      "Test Set evaluation: Loss: 0.23760270431071898 Test Accuracy: 0.9433\n"
     ]
    },
    {
     "name": "stderr",
     "output_type": "stream",
     "text": [
      "\n"
     ]
    }
   ],
   "source": [
    "model = resnet18(num_classes=10, zero_init_residual=True)\n",
    "optimizer = torch.optim.SGD(model.parameters(), lr=0.05, momentum=0.9, weight_decay=5e-4)\n",
    "scheduler = torch.optim.lr_scheduler.MultiStepLR(optimizer, milestones=[40, 70], gamma=0.1)\n",
    "history = train(train_ds, test_ds, optimizer, model, scheduler=scheduler, epochs=100)\n",
    "torch.save({\n",
    "    'model_state_dict': model.state_dict(),\n",
    "    'opt_state_dict': optimizer.state_dict(),\n",
    "    'history': history\n",
    "}, f'{model_dir}_longer_training')"
   ]
  },
  {
   "cell_type": "code",
   "execution_count": null,
   "metadata": {},
   "outputs": [
    {
     "name": "stdout",
     "output_type": "stream",
     "text": [
      "Test Set evaluation: Loss: 0.23760270431071898 Test Accuracy: 0.9433\n"
     ]
    },
    {
     "data": {
      "image/png": "[encoded data removed]",
      "text/plain": [
       "<Figure size 720x1152 with 3 Axes>"
      ]
     },
     "metadata": {
      "needs_background": "light"
     },
     "output_type": "display_data"
    }
   ],
   "source": [
    "checkpoint = torch.load(f'{model_dir}_longer_training')\n",
    "r18_longer = resnet18(num_classes=10, zero_init_residual=True).to(device)\n",
    "r18_longer.load_state_dict(checkpoint['model_state_dict'])\n",
    "evaluate(test_ds, r18_longer, nn.CrossEntropyLoss())\n",
    "plot_history(checkpoint['history'])"
   ]
  },
  {
   "cell_type": "code",
   "execution_count": null,
   "metadata": {},
   "outputs": [],
   "source": []
  }
 ],
 "metadata": {
  "kernelspec": {
   "display_name": "Python 3",
   "language": "python",
   "name": "python3"
  },
  "language_info": {
   "codemirror_mode": {
    "name": "ipython",
    "version": 3
   },
   "file_extension": ".py",
   "mimetype": "text/x-python",
   "name": "python",
   "nbconvert_exporter": "python",
   "pygments_lexer": "ipython3",
   "version": "3.6.8"
  }
 },
 "nbformat": 4,
 "nbformat_minor": 4
}
